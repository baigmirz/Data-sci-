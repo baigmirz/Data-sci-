{
 "cells": [
  {
   "cell_type": "code",
   "execution_count": 2,
   "id": "310ff231",
   "metadata": {},
   "outputs": [
    {
     "name": "stdout",
     "output_type": "stream",
     "text": [
      "showing info https://raw.githubusercontent.com/nltk/nltk_data/gh-pages/index.xml\n"
     ]
    },
    {
     "data": {
      "text/plain": [
       "True"
      ]
     },
     "execution_count": 2,
     "metadata": {},
     "output_type": "execute_result"
    }
   ],
   "source": [
    "import os\n",
    "import nltk\n",
    "nltk.download()"
   ]
  },
  {
   "cell_type": "code",
   "execution_count": 3,
   "id": "1dd44ae1",
   "metadata": {},
   "outputs": [],
   "source": [
    "AI = '''Artificial Intelligence refers to the intelligence of machines. This is in contrast to the natural intelligence of \n",
    "humans and animals. With Artificial Intelligence, machines perform functions such as learning, planning, reasoning and \n",
    "problem-solving. Most noteworthy, Artificial Intelligence is the simulation of human intelligence by machines. \n",
    "It is probably the fastest-growing development in the World of technology and innovation. Furthermore, many experts believe\n",
    "AI could solve major challenges and crisis situations.'''"
   ]
  },
  {
   "cell_type": "code",
   "execution_count": 4,
   "id": "4bd7d2f3",
   "metadata": {},
   "outputs": [
    {
     "data": {
      "text/plain": [
       "'Artificial Intelligence refers to the intelligence of machines. This is in contrast to the natural intelligence of \\nhumans and animals. With Artificial Intelligence, machines perform functions such as learning, planning, reasoning and \\nproblem-solving. Most noteworthy, Artificial Intelligence is the simulation of human intelligence by machines. \\nIt is probably the fastest-growing development in the World of technology and innovation. Furthermore, many experts believe\\nAI could solve major challenges and crisis situations.'"
      ]
     },
     "execution_count": 4,
     "metadata": {},
     "output_type": "execute_result"
    }
   ],
   "source": [
    "AI"
   ]
  },
  {
   "cell_type": "code",
   "execution_count": 5,
   "id": "b50e07a4",
   "metadata": {},
   "outputs": [
    {
     "data": {
      "text/plain": [
       "str"
      ]
     },
     "execution_count": 5,
     "metadata": {},
     "output_type": "execute_result"
    }
   ],
   "source": [
    "type(AI)"
   ]
  },
  {
   "cell_type": "code",
   "execution_count": 6,
   "id": "db146737",
   "metadata": {},
   "outputs": [
    {
     "name": "stderr",
     "output_type": "stream",
     "text": [
      "[nltk_data] Downloading package punkt to C:\\Users\\Dell\n",
      "[nltk_data]     i7\\AppData\\Roaming\\nltk_data...\n",
      "[nltk_data]   Package punkt is already up-to-date!\n"
     ]
    },
    {
     "data": {
      "text/plain": [
       "True"
      ]
     },
     "execution_count": 6,
     "metadata": {},
     "output_type": "execute_result"
    }
   ],
   "source": [
    "import nltk\n",
    "\n",
    "nltk.download('punkt')\n"
   ]
  },
  {
   "cell_type": "code",
   "execution_count": 8,
   "id": "d5dc45ab",
   "metadata": {},
   "outputs": [],
   "source": [
    "from nltk.tokenize import word_tokenize"
   ]
  },
  {
   "cell_type": "code",
   "execution_count": 10,
   "id": "f43bffc6",
   "metadata": {},
   "outputs": [
    {
     "data": {
      "text/plain": [
       "['Artificial',\n",
       " 'Intelligence',\n",
       " 'refers',\n",
       " 'to',\n",
       " 'the',\n",
       " 'intelligence',\n",
       " 'of',\n",
       " 'machines',\n",
       " '.',\n",
       " 'This',\n",
       " 'is',\n",
       " 'in',\n",
       " 'contrast',\n",
       " 'to',\n",
       " 'the',\n",
       " 'natural',\n",
       " 'intelligence',\n",
       " 'of',\n",
       " 'humans',\n",
       " 'and',\n",
       " 'animals',\n",
       " '.',\n",
       " 'With',\n",
       " 'Artificial',\n",
       " 'Intelligence',\n",
       " ',',\n",
       " 'machines',\n",
       " 'perform',\n",
       " 'functions',\n",
       " 'such',\n",
       " 'as',\n",
       " 'learning',\n",
       " ',',\n",
       " 'planning',\n",
       " ',',\n",
       " 'reasoning',\n",
       " 'and',\n",
       " 'problem-solving',\n",
       " '.',\n",
       " 'Most',\n",
       " 'noteworthy',\n",
       " ',',\n",
       " 'Artificial',\n",
       " 'Intelligence',\n",
       " 'is',\n",
       " 'the',\n",
       " 'simulation',\n",
       " 'of',\n",
       " 'human',\n",
       " 'intelligence',\n",
       " 'by',\n",
       " 'machines',\n",
       " '.',\n",
       " 'It',\n",
       " 'is',\n",
       " 'probably',\n",
       " 'the',\n",
       " 'fastest-growing',\n",
       " 'development',\n",
       " 'in',\n",
       " 'the',\n",
       " 'World',\n",
       " 'of',\n",
       " 'technology',\n",
       " 'and',\n",
       " 'innovation',\n",
       " '.',\n",
       " 'Furthermore',\n",
       " ',',\n",
       " 'many',\n",
       " 'experts',\n",
       " 'believe',\n",
       " 'AI',\n",
       " 'could',\n",
       " 'solve',\n",
       " 'major',\n",
       " 'challenges',\n",
       " 'and',\n",
       " 'crisis',\n",
       " 'situations',\n",
       " '.']"
      ]
     },
     "execution_count": 10,
     "metadata": {},
     "output_type": "execute_result"
    }
   ],
   "source": [
    "AI_tokens=word_tokenize(AI)\n",
    "AI_tokens"
   ]
  },
  {
   "cell_type": "code",
   "execution_count": 11,
   "id": "bd614cf9",
   "metadata": {},
   "outputs": [
    {
     "data": {
      "text/plain": [
       "81"
      ]
     },
     "execution_count": 11,
     "metadata": {},
     "output_type": "execute_result"
    }
   ],
   "source": [
    "len(AI_tokens)"
   ]
  },
  {
   "cell_type": "code",
   "execution_count": 12,
   "id": "9fe3feb4",
   "metadata": {},
   "outputs": [],
   "source": [
    "from nltk.tokenize import sent_tokenize"
   ]
  },
  {
   "cell_type": "code",
   "execution_count": 14,
   "id": "4aee9cd0",
   "metadata": {},
   "outputs": [
    {
     "data": {
      "text/plain": [
       "['Artificial Intelligence refers to the intelligence of machines.',\n",
       " 'This is in contrast to the natural intelligence of \\nhumans and animals.',\n",
       " 'With Artificial Intelligence, machines perform functions such as learning, planning, reasoning and \\nproblem-solving.',\n",
       " 'Most noteworthy, Artificial Intelligence is the simulation of human intelligence by machines.',\n",
       " 'It is probably the fastest-growing development in the World of technology and innovation.',\n",
       " 'Furthermore, many experts believe\\nAI could solve major challenges and crisis situations.']"
      ]
     },
     "execution_count": 14,
     "metadata": {},
     "output_type": "execute_result"
    }
   ],
   "source": [
    "AI_sent=sent_tokenize(AI)\n",
    "AI_sent"
   ]
  },
  {
   "cell_type": "code",
   "execution_count": 15,
   "id": "909627e7",
   "metadata": {},
   "outputs": [
    {
     "data": {
      "text/plain": [
       "6"
      ]
     },
     "execution_count": 15,
     "metadata": {},
     "output_type": "execute_result"
    }
   ],
   "source": [
    "len(AI_sent)"
   ]
  },
  {
   "cell_type": "code",
   "execution_count": 16,
   "id": "ffef3907",
   "metadata": {},
   "outputs": [
    {
     "data": {
      "text/plain": [
       "'Artificial Intelligence refers to the intelligence of machines. This is in contrast to the natural intelligence of \\nhumans and animals. With Artificial Intelligence, machines perform functions such as learning, planning, reasoning and \\nproblem-solving. Most noteworthy, Artificial Intelligence is the simulation of human intelligence by machines. \\nIt is probably the fastest-growing development in the World of technology and innovation. Furthermore, many experts believe\\nAI could solve major challenges and crisis situations.'"
      ]
     },
     "execution_count": 16,
     "metadata": {},
     "output_type": "execute_result"
    }
   ],
   "source": [
    "AI"
   ]
  },
  {
   "cell_type": "code",
   "execution_count": 17,
   "id": "638a8d8a",
   "metadata": {},
   "outputs": [],
   "source": [
    "from nltk.tokenize import blankline_tokenize"
   ]
  },
  {
   "cell_type": "code",
   "execution_count": 18,
   "id": "14b7fdc3",
   "metadata": {},
   "outputs": [
    {
     "data": {
      "text/plain": [
       "['Artificial Intelligence refers to the intelligence of machines. This is in contrast to the natural intelligence of \\nhumans and animals. With Artificial Intelligence, machines perform functions such as learning, planning, reasoning and \\nproblem-solving. Most noteworthy, Artificial Intelligence is the simulation of human intelligence by machines. \\nIt is probably the fastest-growing development in the World of technology and innovation. Furthermore, many experts believe\\nAI could solve major challenges and crisis situations.']"
      ]
     },
     "execution_count": 18,
     "metadata": {},
     "output_type": "execute_result"
    }
   ],
   "source": [
    "AI_blank=blankline_tokenize(AI)\n",
    "AI_blank"
   ]
  },
  {
   "cell_type": "code",
   "execution_count": 19,
   "id": "212b214c",
   "metadata": {},
   "outputs": [
    {
     "data": {
      "text/plain": [
       "1"
      ]
     },
     "execution_count": 19,
     "metadata": {},
     "output_type": "execute_result"
    }
   ],
   "source": [
    "len(AI_blank)"
   ]
  },
  {
   "cell_type": "code",
   "execution_count": 20,
   "id": "f827f26f",
   "metadata": {},
   "outputs": [],
   "source": [
    "from nltk.util import bigrams,trigrams,ngrams"
   ]
  },
  {
   "cell_type": "code",
   "execution_count": 24,
   "id": "2431a096",
   "metadata": {},
   "outputs": [],
   "source": [
    "string='the best and all most beautifull thing in the world cannot be seen or even touched,they must be felt with heart'\n",
    "quotes_tokens= nltk.word_tokenize(string)"
   ]
  },
  {
   "cell_type": "code",
   "execution_count": 25,
   "id": "0dac9e37",
   "metadata": {},
   "outputs": [
    {
     "data": {
      "text/plain": [
       "['the',\n",
       " 'best',\n",
       " 'and',\n",
       " 'all',\n",
       " 'most',\n",
       " 'beautifull',\n",
       " 'thing',\n",
       " 'in',\n",
       " 'the',\n",
       " 'world',\n",
       " 'can',\n",
       " 'not',\n",
       " 'be',\n",
       " 'seen',\n",
       " 'or',\n",
       " 'even',\n",
       " 'touched',\n",
       " ',',\n",
       " 'they',\n",
       " 'must',\n",
       " 'be',\n",
       " 'felt',\n",
       " 'with',\n",
       " 'heart']"
      ]
     },
     "execution_count": 25,
     "metadata": {},
     "output_type": "execute_result"
    }
   ],
   "source": [
    "quotes_tokens"
   ]
  },
  {
   "cell_type": "code",
   "execution_count": 26,
   "id": "8e324238",
   "metadata": {},
   "outputs": [
    {
     "data": {
      "text/plain": [
       "24"
      ]
     },
     "execution_count": 26,
     "metadata": {},
     "output_type": "execute_result"
    }
   ],
   "source": [
    "len(quotes_tokens)"
   ]
  },
  {
   "cell_type": "code",
   "execution_count": 30,
   "id": "9ffbec8c",
   "metadata": {},
   "outputs": [
    {
     "data": {
      "text/plain": [
       "[('the', 'best'),\n",
       " ('best', 'and'),\n",
       " ('and', 'all'),\n",
       " ('all', 'most'),\n",
       " ('most', 'beautifull'),\n",
       " ('beautifull', 'thing'),\n",
       " ('thing', 'in'),\n",
       " ('in', 'the'),\n",
       " ('the', 'world'),\n",
       " ('world', 'can'),\n",
       " ('can', 'not'),\n",
       " ('not', 'be'),\n",
       " ('be', 'seen'),\n",
       " ('seen', 'or'),\n",
       " ('or', 'even'),\n",
       " ('even', 'touched'),\n",
       " ('touched', ','),\n",
       " (',', 'they'),\n",
       " ('they', 'must'),\n",
       " ('must', 'be'),\n",
       " ('be', 'felt'),\n",
       " ('felt', 'with'),\n",
       " ('with', 'heart')]"
      ]
     },
     "execution_count": 30,
     "metadata": {},
     "output_type": "execute_result"
    }
   ],
   "source": [
    "quotes_bigrams=list(nltk.bigrams(quotes_tokens))\n",
    "quotes_bigrams"
   ]
  },
  {
   "cell_type": "code",
   "execution_count": 31,
   "id": "2792f53c",
   "metadata": {},
   "outputs": [
    {
     "data": {
      "text/plain": [
       "['the',\n",
       " 'best',\n",
       " 'and',\n",
       " 'all',\n",
       " 'most',\n",
       " 'beautifull',\n",
       " 'thing',\n",
       " 'in',\n",
       " 'the',\n",
       " 'world',\n",
       " 'can',\n",
       " 'not',\n",
       " 'be',\n",
       " 'seen',\n",
       " 'or',\n",
       " 'even',\n",
       " 'touched',\n",
       " ',',\n",
       " 'they',\n",
       " 'must',\n",
       " 'be',\n",
       " 'felt',\n",
       " 'with',\n",
       " 'heart']"
      ]
     },
     "execution_count": 31,
     "metadata": {},
     "output_type": "execute_result"
    }
   ],
   "source": [
    "quotes_tokens"
   ]
  },
  {
   "cell_type": "code",
   "execution_count": 33,
   "id": "f0620923",
   "metadata": {},
   "outputs": [
    {
     "data": {
      "text/plain": [
       "[('the', 'best', 'and'),\n",
       " ('best', 'and', 'all'),\n",
       " ('and', 'all', 'most'),\n",
       " ('all', 'most', 'beautifull'),\n",
       " ('most', 'beautifull', 'thing'),\n",
       " ('beautifull', 'thing', 'in'),\n",
       " ('thing', 'in', 'the'),\n",
       " ('in', 'the', 'world'),\n",
       " ('the', 'world', 'can'),\n",
       " ('world', 'can', 'not'),\n",
       " ('can', 'not', 'be'),\n",
       " ('not', 'be', 'seen'),\n",
       " ('be', 'seen', 'or'),\n",
       " ('seen', 'or', 'even'),\n",
       " ('or', 'even', 'touched'),\n",
       " ('even', 'touched', ','),\n",
       " ('touched', ',', 'they'),\n",
       " (',', 'they', 'must'),\n",
       " ('they', 'must', 'be'),\n",
       " ('must', 'be', 'felt'),\n",
       " ('be', 'felt', 'with'),\n",
       " ('felt', 'with', 'heart')]"
      ]
     },
     "execution_count": 33,
     "metadata": {},
     "output_type": "execute_result"
    }
   ],
   "source": [
    "quotes_trigrams=list(nltk.trigrams(quotes_tokens))\n",
    "quotes_trigrams"
   ]
  },
  {
   "cell_type": "code",
   "execution_count": 34,
   "id": "dcf2057e",
   "metadata": {},
   "outputs": [
    {
     "ename": "TypeError",
     "evalue": "ngrams() missing 1 required positional argument: 'n'",
     "output_type": "error",
     "traceback": [
      "\u001b[1;31m---------------------------------------------------------------------------\u001b[0m",
      "\u001b[1;31mTypeError\u001b[0m                                 Traceback (most recent call last)",
      "Cell \u001b[1;32mIn[34], line 1\u001b[0m\n\u001b[1;32m----> 1\u001b[0m quotes_trigrams \u001b[38;5;241m=\u001b[39m \u001b[38;5;28mlist\u001b[39m(nltk\u001b[38;5;241m.\u001b[39mngrams(quotes_tokens))\n\u001b[0;32m      2\u001b[0m quotes_trigram\n",
      "\u001b[1;31mTypeError\u001b[0m: ngrams() missing 1 required positional argument: 'n'"
     ]
    }
   ],
   "source": [
    "quotes_trigrams = list(nltk.ngrams(quotes_tokens))\n",
    "quotes_trigram"
   ]
  },
  {
   "cell_type": "code",
   "execution_count": 35,
   "id": "d529805c",
   "metadata": {},
   "outputs": [
    {
     "data": {
      "text/plain": [
       "[('the', 'best', 'and', 'all'),\n",
       " ('best', 'and', 'all', 'most'),\n",
       " ('and', 'all', 'most', 'beautifull'),\n",
       " ('all', 'most', 'beautifull', 'thing'),\n",
       " ('most', 'beautifull', 'thing', 'in'),\n",
       " ('beautifull', 'thing', 'in', 'the'),\n",
       " ('thing', 'in', 'the', 'world'),\n",
       " ('in', 'the', 'world', 'can'),\n",
       " ('the', 'world', 'can', 'not'),\n",
       " ('world', 'can', 'not', 'be'),\n",
       " ('can', 'not', 'be', 'seen'),\n",
       " ('not', 'be', 'seen', 'or'),\n",
       " ('be', 'seen', 'or', 'even'),\n",
       " ('seen', 'or', 'even', 'touched'),\n",
       " ('or', 'even', 'touched', ','),\n",
       " ('even', 'touched', ',', 'they'),\n",
       " ('touched', ',', 'they', 'must'),\n",
       " (',', 'they', 'must', 'be'),\n",
       " ('they', 'must', 'be', 'felt'),\n",
       " ('must', 'be', 'felt', 'with'),\n",
       " ('be', 'felt', 'with', 'heart')]"
      ]
     },
     "execution_count": 35,
     "metadata": {},
     "output_type": "execute_result"
    }
   ],
   "source": [
    "quotes_ngrams=list(nltk.ngrams(quotes_tokens,4))\n",
    "quotes_ngrams"
   ]
  },
  {
   "cell_type": "code",
   "execution_count": 37,
   "id": "02dd3afb",
   "metadata": {},
   "outputs": [
    {
     "data": {
      "text/plain": [
       "24"
      ]
     },
     "execution_count": 37,
     "metadata": {},
     "output_type": "execute_result"
    }
   ],
   "source": [
    "len(quotes_tokens)"
   ]
  },
  {
   "cell_type": "code",
   "execution_count": 40,
   "id": "2c591b4b",
   "metadata": {},
   "outputs": [
    {
     "data": {
      "text/plain": [
       "[(((('the', 'best', 'and', 'all'),\n",
       "    ('best', 'and', 'all', 'most'),\n",
       "    ('and', 'all', 'most', 'beautifull'),\n",
       "    ('all', 'most', 'beautifull', 'thing'),\n",
       "    ('most', 'beautifull', 'thing', 'in')),\n",
       "   (('best', 'and', 'all', 'most'),\n",
       "    ('and', 'all', 'most', 'beautifull'),\n",
       "    ('all', 'most', 'beautifull', 'thing'),\n",
       "    ('most', 'beautifull', 'thing', 'in'),\n",
       "    ('beautifull', 'thing', 'in', 'the')),\n",
       "   (('and', 'all', 'most', 'beautifull'),\n",
       "    ('all', 'most', 'beautifull', 'thing'),\n",
       "    ('most', 'beautifull', 'thing', 'in'),\n",
       "    ('beautifull', 'thing', 'in', 'the'),\n",
       "    ('thing', 'in', 'the', 'world')),\n",
       "   (('all', 'most', 'beautifull', 'thing'),\n",
       "    ('most', 'beautifull', 'thing', 'in'),\n",
       "    ('beautifull', 'thing', 'in', 'the'),\n",
       "    ('thing', 'in', 'the', 'world'),\n",
       "    ('in', 'the', 'world', 'can')),\n",
       "   (('most', 'beautifull', 'thing', 'in'),\n",
       "    ('beautifull', 'thing', 'in', 'the'),\n",
       "    ('thing', 'in', 'the', 'world'),\n",
       "    ('in', 'the', 'world', 'can'),\n",
       "    ('the', 'world', 'can', 'not'))),\n",
       "  ((('best', 'and', 'all', 'most'),\n",
       "    ('and', 'all', 'most', 'beautifull'),\n",
       "    ('all', 'most', 'beautifull', 'thing'),\n",
       "    ('most', 'beautifull', 'thing', 'in'),\n",
       "    ('beautifull', 'thing', 'in', 'the')),\n",
       "   (('and', 'all', 'most', 'beautifull'),\n",
       "    ('all', 'most', 'beautifull', 'thing'),\n",
       "    ('most', 'beautifull', 'thing', 'in'),\n",
       "    ('beautifull', 'thing', 'in', 'the'),\n",
       "    ('thing', 'in', 'the', 'world')),\n",
       "   (('all', 'most', 'beautifull', 'thing'),\n",
       "    ('most', 'beautifull', 'thing', 'in'),\n",
       "    ('beautifull', 'thing', 'in', 'the'),\n",
       "    ('thing', 'in', 'the', 'world'),\n",
       "    ('in', 'the', 'world', 'can')),\n",
       "   (('most', 'beautifull', 'thing', 'in'),\n",
       "    ('beautifull', 'thing', 'in', 'the'),\n",
       "    ('thing', 'in', 'the', 'world'),\n",
       "    ('in', 'the', 'world', 'can'),\n",
       "    ('the', 'world', 'can', 'not')),\n",
       "   (('beautifull', 'thing', 'in', 'the'),\n",
       "    ('thing', 'in', 'the', 'world'),\n",
       "    ('in', 'the', 'world', 'can'),\n",
       "    ('the', 'world', 'can', 'not'),\n",
       "    ('world', 'can', 'not', 'be'))),\n",
       "  ((('and', 'all', 'most', 'beautifull'),\n",
       "    ('all', 'most', 'beautifull', 'thing'),\n",
       "    ('most', 'beautifull', 'thing', 'in'),\n",
       "    ('beautifull', 'thing', 'in', 'the'),\n",
       "    ('thing', 'in', 'the', 'world')),\n",
       "   (('all', 'most', 'beautifull', 'thing'),\n",
       "    ('most', 'beautifull', 'thing', 'in'),\n",
       "    ('beautifull', 'thing', 'in', 'the'),\n",
       "    ('thing', 'in', 'the', 'world'),\n",
       "    ('in', 'the', 'world', 'can')),\n",
       "   (('most', 'beautifull', 'thing', 'in'),\n",
       "    ('beautifull', 'thing', 'in', 'the'),\n",
       "    ('thing', 'in', 'the', 'world'),\n",
       "    ('in', 'the', 'world', 'can'),\n",
       "    ('the', 'world', 'can', 'not')),\n",
       "   (('beautifull', 'thing', 'in', 'the'),\n",
       "    ('thing', 'in', 'the', 'world'),\n",
       "    ('in', 'the', 'world', 'can'),\n",
       "    ('the', 'world', 'can', 'not'),\n",
       "    ('world', 'can', 'not', 'be')),\n",
       "   (('thing', 'in', 'the', 'world'),\n",
       "    ('in', 'the', 'world', 'can'),\n",
       "    ('the', 'world', 'can', 'not'),\n",
       "    ('world', 'can', 'not', 'be'),\n",
       "    ('can', 'not', 'be', 'seen'))),\n",
       "  ((('all', 'most', 'beautifull', 'thing'),\n",
       "    ('most', 'beautifull', 'thing', 'in'),\n",
       "    ('beautifull', 'thing', 'in', 'the'),\n",
       "    ('thing', 'in', 'the', 'world'),\n",
       "    ('in', 'the', 'world', 'can')),\n",
       "   (('most', 'beautifull', 'thing', 'in'),\n",
       "    ('beautifull', 'thing', 'in', 'the'),\n",
       "    ('thing', 'in', 'the', 'world'),\n",
       "    ('in', 'the', 'world', 'can'),\n",
       "    ('the', 'world', 'can', 'not')),\n",
       "   (('beautifull', 'thing', 'in', 'the'),\n",
       "    ('thing', 'in', 'the', 'world'),\n",
       "    ('in', 'the', 'world', 'can'),\n",
       "    ('the', 'world', 'can', 'not'),\n",
       "    ('world', 'can', 'not', 'be')),\n",
       "   (('thing', 'in', 'the', 'world'),\n",
       "    ('in', 'the', 'world', 'can'),\n",
       "    ('the', 'world', 'can', 'not'),\n",
       "    ('world', 'can', 'not', 'be'),\n",
       "    ('can', 'not', 'be', 'seen')),\n",
       "   (('in', 'the', 'world', 'can'),\n",
       "    ('the', 'world', 'can', 'not'),\n",
       "    ('world', 'can', 'not', 'be'),\n",
       "    ('can', 'not', 'be', 'seen'),\n",
       "    ('not', 'be', 'seen', 'or'))),\n",
       "  ((('most', 'beautifull', 'thing', 'in'),\n",
       "    ('beautifull', 'thing', 'in', 'the'),\n",
       "    ('thing', 'in', 'the', 'world'),\n",
       "    ('in', 'the', 'world', 'can'),\n",
       "    ('the', 'world', 'can', 'not')),\n",
       "   (('beautifull', 'thing', 'in', 'the'),\n",
       "    ('thing', 'in', 'the', 'world'),\n",
       "    ('in', 'the', 'world', 'can'),\n",
       "    ('the', 'world', 'can', 'not'),\n",
       "    ('world', 'can', 'not', 'be')),\n",
       "   (('thing', 'in', 'the', 'world'),\n",
       "    ('in', 'the', 'world', 'can'),\n",
       "    ('the', 'world', 'can', 'not'),\n",
       "    ('world', 'can', 'not', 'be'),\n",
       "    ('can', 'not', 'be', 'seen')),\n",
       "   (('in', 'the', 'world', 'can'),\n",
       "    ('the', 'world', 'can', 'not'),\n",
       "    ('world', 'can', 'not', 'be'),\n",
       "    ('can', 'not', 'be', 'seen'),\n",
       "    ('not', 'be', 'seen', 'or')),\n",
       "   (('the', 'world', 'can', 'not'),\n",
       "    ('world', 'can', 'not', 'be'),\n",
       "    ('can', 'not', 'be', 'seen'),\n",
       "    ('not', 'be', 'seen', 'or'),\n",
       "    ('be', 'seen', 'or', 'even')))),\n",
       " (((('best', 'and', 'all', 'most'),\n",
       "    ('and', 'all', 'most', 'beautifull'),\n",
       "    ('all', 'most', 'beautifull', 'thing'),\n",
       "    ('most', 'beautifull', 'thing', 'in'),\n",
       "    ('beautifull', 'thing', 'in', 'the')),\n",
       "   (('and', 'all', 'most', 'beautifull'),\n",
       "    ('all', 'most', 'beautifull', 'thing'),\n",
       "    ('most', 'beautifull', 'thing', 'in'),\n",
       "    ('beautifull', 'thing', 'in', 'the'),\n",
       "    ('thing', 'in', 'the', 'world')),\n",
       "   (('all', 'most', 'beautifull', 'thing'),\n",
       "    ('most', 'beautifull', 'thing', 'in'),\n",
       "    ('beautifull', 'thing', 'in', 'the'),\n",
       "    ('thing', 'in', 'the', 'world'),\n",
       "    ('in', 'the', 'world', 'can')),\n",
       "   (('most', 'beautifull', 'thing', 'in'),\n",
       "    ('beautifull', 'thing', 'in', 'the'),\n",
       "    ('thing', 'in', 'the', 'world'),\n",
       "    ('in', 'the', 'world', 'can'),\n",
       "    ('the', 'world', 'can', 'not')),\n",
       "   (('beautifull', 'thing', 'in', 'the'),\n",
       "    ('thing', 'in', 'the', 'world'),\n",
       "    ('in', 'the', 'world', 'can'),\n",
       "    ('the', 'world', 'can', 'not'),\n",
       "    ('world', 'can', 'not', 'be'))),\n",
       "  ((('and', 'all', 'most', 'beautifull'),\n",
       "    ('all', 'most', 'beautifull', 'thing'),\n",
       "    ('most', 'beautifull', 'thing', 'in'),\n",
       "    ('beautifull', 'thing', 'in', 'the'),\n",
       "    ('thing', 'in', 'the', 'world')),\n",
       "   (('all', 'most', 'beautifull', 'thing'),\n",
       "    ('most', 'beautifull', 'thing', 'in'),\n",
       "    ('beautifull', 'thing', 'in', 'the'),\n",
       "    ('thing', 'in', 'the', 'world'),\n",
       "    ('in', 'the', 'world', 'can')),\n",
       "   (('most', 'beautifull', 'thing', 'in'),\n",
       "    ('beautifull', 'thing', 'in', 'the'),\n",
       "    ('thing', 'in', 'the', 'world'),\n",
       "    ('in', 'the', 'world', 'can'),\n",
       "    ('the', 'world', 'can', 'not')),\n",
       "   (('beautifull', 'thing', 'in', 'the'),\n",
       "    ('thing', 'in', 'the', 'world'),\n",
       "    ('in', 'the', 'world', 'can'),\n",
       "    ('the', 'world', 'can', 'not'),\n",
       "    ('world', 'can', 'not', 'be')),\n",
       "   (('thing', 'in', 'the', 'world'),\n",
       "    ('in', 'the', 'world', 'can'),\n",
       "    ('the', 'world', 'can', 'not'),\n",
       "    ('world', 'can', 'not', 'be'),\n",
       "    ('can', 'not', 'be', 'seen'))),\n",
       "  ((('all', 'most', 'beautifull', 'thing'),\n",
       "    ('most', 'beautifull', 'thing', 'in'),\n",
       "    ('beautifull', 'thing', 'in', 'the'),\n",
       "    ('thing', 'in', 'the', 'world'),\n",
       "    ('in', 'the', 'world', 'can')),\n",
       "   (('most', 'beautifull', 'thing', 'in'),\n",
       "    ('beautifull', 'thing', 'in', 'the'),\n",
       "    ('thing', 'in', 'the', 'world'),\n",
       "    ('in', 'the', 'world', 'can'),\n",
       "    ('the', 'world', 'can', 'not')),\n",
       "   (('beautifull', 'thing', 'in', 'the'),\n",
       "    ('thing', 'in', 'the', 'world'),\n",
       "    ('in', 'the', 'world', 'can'),\n",
       "    ('the', 'world', 'can', 'not'),\n",
       "    ('world', 'can', 'not', 'be')),\n",
       "   (('thing', 'in', 'the', 'world'),\n",
       "    ('in', 'the', 'world', 'can'),\n",
       "    ('the', 'world', 'can', 'not'),\n",
       "    ('world', 'can', 'not', 'be'),\n",
       "    ('can', 'not', 'be', 'seen')),\n",
       "   (('in', 'the', 'world', 'can'),\n",
       "    ('the', 'world', 'can', 'not'),\n",
       "    ('world', 'can', 'not', 'be'),\n",
       "    ('can', 'not', 'be', 'seen'),\n",
       "    ('not', 'be', 'seen', 'or'))),\n",
       "  ((('most', 'beautifull', 'thing', 'in'),\n",
       "    ('beautifull', 'thing', 'in', 'the'),\n",
       "    ('thing', 'in', 'the', 'world'),\n",
       "    ('in', 'the', 'world', 'can'),\n",
       "    ('the', 'world', 'can', 'not')),\n",
       "   (('beautifull', 'thing', 'in', 'the'),\n",
       "    ('thing', 'in', 'the', 'world'),\n",
       "    ('in', 'the', 'world', 'can'),\n",
       "    ('the', 'world', 'can', 'not'),\n",
       "    ('world', 'can', 'not', 'be')),\n",
       "   (('thing', 'in', 'the', 'world'),\n",
       "    ('in', 'the', 'world', 'can'),\n",
       "    ('the', 'world', 'can', 'not'),\n",
       "    ('world', 'can', 'not', 'be'),\n",
       "    ('can', 'not', 'be', 'seen')),\n",
       "   (('in', 'the', 'world', 'can'),\n",
       "    ('the', 'world', 'can', 'not'),\n",
       "    ('world', 'can', 'not', 'be'),\n",
       "    ('can', 'not', 'be', 'seen'),\n",
       "    ('not', 'be', 'seen', 'or')),\n",
       "   (('the', 'world', 'can', 'not'),\n",
       "    ('world', 'can', 'not', 'be'),\n",
       "    ('can', 'not', 'be', 'seen'),\n",
       "    ('not', 'be', 'seen', 'or'),\n",
       "    ('be', 'seen', 'or', 'even'))),\n",
       "  ((('beautifull', 'thing', 'in', 'the'),\n",
       "    ('thing', 'in', 'the', 'world'),\n",
       "    ('in', 'the', 'world', 'can'),\n",
       "    ('the', 'world', 'can', 'not'),\n",
       "    ('world', 'can', 'not', 'be')),\n",
       "   (('thing', 'in', 'the', 'world'),\n",
       "    ('in', 'the', 'world', 'can'),\n",
       "    ('the', 'world', 'can', 'not'),\n",
       "    ('world', 'can', 'not', 'be'),\n",
       "    ('can', 'not', 'be', 'seen')),\n",
       "   (('in', 'the', 'world', 'can'),\n",
       "    ('the', 'world', 'can', 'not'),\n",
       "    ('world', 'can', 'not', 'be'),\n",
       "    ('can', 'not', 'be', 'seen'),\n",
       "    ('not', 'be', 'seen', 'or')),\n",
       "   (('the', 'world', 'can', 'not'),\n",
       "    ('world', 'can', 'not', 'be'),\n",
       "    ('can', 'not', 'be', 'seen'),\n",
       "    ('not', 'be', 'seen', 'or'),\n",
       "    ('be', 'seen', 'or', 'even')),\n",
       "   (('world', 'can', 'not', 'be'),\n",
       "    ('can', 'not', 'be', 'seen'),\n",
       "    ('not', 'be', 'seen', 'or'),\n",
       "    ('be', 'seen', 'or', 'even'),\n",
       "    ('seen', 'or', 'even', 'touched')))),\n",
       " (((('and', 'all', 'most', 'beautifull'),\n",
       "    ('all', 'most', 'beautifull', 'thing'),\n",
       "    ('most', 'beautifull', 'thing', 'in'),\n",
       "    ('beautifull', 'thing', 'in', 'the'),\n",
       "    ('thing', 'in', 'the', 'world')),\n",
       "   (('all', 'most', 'beautifull', 'thing'),\n",
       "    ('most', 'beautifull', 'thing', 'in'),\n",
       "    ('beautifull', 'thing', 'in', 'the'),\n",
       "    ('thing', 'in', 'the', 'world'),\n",
       "    ('in', 'the', 'world', 'can')),\n",
       "   (('most', 'beautifull', 'thing', 'in'),\n",
       "    ('beautifull', 'thing', 'in', 'the'),\n",
       "    ('thing', 'in', 'the', 'world'),\n",
       "    ('in', 'the', 'world', 'can'),\n",
       "    ('the', 'world', 'can', 'not')),\n",
       "   (('beautifull', 'thing', 'in', 'the'),\n",
       "    ('thing', 'in', 'the', 'world'),\n",
       "    ('in', 'the', 'world', 'can'),\n",
       "    ('the', 'world', 'can', 'not'),\n",
       "    ('world', 'can', 'not', 'be')),\n",
       "   (('thing', 'in', 'the', 'world'),\n",
       "    ('in', 'the', 'world', 'can'),\n",
       "    ('the', 'world', 'can', 'not'),\n",
       "    ('world', 'can', 'not', 'be'),\n",
       "    ('can', 'not', 'be', 'seen'))),\n",
       "  ((('all', 'most', 'beautifull', 'thing'),\n",
       "    ('most', 'beautifull', 'thing', 'in'),\n",
       "    ('beautifull', 'thing', 'in', 'the'),\n",
       "    ('thing', 'in', 'the', 'world'),\n",
       "    ('in', 'the', 'world', 'can')),\n",
       "   (('most', 'beautifull', 'thing', 'in'),\n",
       "    ('beautifull', 'thing', 'in', 'the'),\n",
       "    ('thing', 'in', 'the', 'world'),\n",
       "    ('in', 'the', 'world', 'can'),\n",
       "    ('the', 'world', 'can', 'not')),\n",
       "   (('beautifull', 'thing', 'in', 'the'),\n",
       "    ('thing', 'in', 'the', 'world'),\n",
       "    ('in', 'the', 'world', 'can'),\n",
       "    ('the', 'world', 'can', 'not'),\n",
       "    ('world', 'can', 'not', 'be')),\n",
       "   (('thing', 'in', 'the', 'world'),\n",
       "    ('in', 'the', 'world', 'can'),\n",
       "    ('the', 'world', 'can', 'not'),\n",
       "    ('world', 'can', 'not', 'be'),\n",
       "    ('can', 'not', 'be', 'seen')),\n",
       "   (('in', 'the', 'world', 'can'),\n",
       "    ('the', 'world', 'can', 'not'),\n",
       "    ('world', 'can', 'not', 'be'),\n",
       "    ('can', 'not', 'be', 'seen'),\n",
       "    ('not', 'be', 'seen', 'or'))),\n",
       "  ((('most', 'beautifull', 'thing', 'in'),\n",
       "    ('beautifull', 'thing', 'in', 'the'),\n",
       "    ('thing', 'in', 'the', 'world'),\n",
       "    ('in', 'the', 'world', 'can'),\n",
       "    ('the', 'world', 'can', 'not')),\n",
       "   (('beautifull', 'thing', 'in', 'the'),\n",
       "    ('thing', 'in', 'the', 'world'),\n",
       "    ('in', 'the', 'world', 'can'),\n",
       "    ('the', 'world', 'can', 'not'),\n",
       "    ('world', 'can', 'not', 'be')),\n",
       "   (('thing', 'in', 'the', 'world'),\n",
       "    ('in', 'the', 'world', 'can'),\n",
       "    ('the', 'world', 'can', 'not'),\n",
       "    ('world', 'can', 'not', 'be'),\n",
       "    ('can', 'not', 'be', 'seen')),\n",
       "   (('in', 'the', 'world', 'can'),\n",
       "    ('the', 'world', 'can', 'not'),\n",
       "    ('world', 'can', 'not', 'be'),\n",
       "    ('can', 'not', 'be', 'seen'),\n",
       "    ('not', 'be', 'seen', 'or')),\n",
       "   (('the', 'world', 'can', 'not'),\n",
       "    ('world', 'can', 'not', 'be'),\n",
       "    ('can', 'not', 'be', 'seen'),\n",
       "    ('not', 'be', 'seen', 'or'),\n",
       "    ('be', 'seen', 'or', 'even'))),\n",
       "  ((('beautifull', 'thing', 'in', 'the'),\n",
       "    ('thing', 'in', 'the', 'world'),\n",
       "    ('in', 'the', 'world', 'can'),\n",
       "    ('the', 'world', 'can', 'not'),\n",
       "    ('world', 'can', 'not', 'be')),\n",
       "   (('thing', 'in', 'the', 'world'),\n",
       "    ('in', 'the', 'world', 'can'),\n",
       "    ('the', 'world', 'can', 'not'),\n",
       "    ('world', 'can', 'not', 'be'),\n",
       "    ('can', 'not', 'be', 'seen')),\n",
       "   (('in', 'the', 'world', 'can'),\n",
       "    ('the', 'world', 'can', 'not'),\n",
       "    ('world', 'can', 'not', 'be'),\n",
       "    ('can', 'not', 'be', 'seen'),\n",
       "    ('not', 'be', 'seen', 'or')),\n",
       "   (('the', 'world', 'can', 'not'),\n",
       "    ('world', 'can', 'not', 'be'),\n",
       "    ('can', 'not', 'be', 'seen'),\n",
       "    ('not', 'be', 'seen', 'or'),\n",
       "    ('be', 'seen', 'or', 'even')),\n",
       "   (('world', 'can', 'not', 'be'),\n",
       "    ('can', 'not', 'be', 'seen'),\n",
       "    ('not', 'be', 'seen', 'or'),\n",
       "    ('be', 'seen', 'or', 'even'),\n",
       "    ('seen', 'or', 'even', 'touched'))),\n",
       "  ((('thing', 'in', 'the', 'world'),\n",
       "    ('in', 'the', 'world', 'can'),\n",
       "    ('the', 'world', 'can', 'not'),\n",
       "    ('world', 'can', 'not', 'be'),\n",
       "    ('can', 'not', 'be', 'seen')),\n",
       "   (('in', 'the', 'world', 'can'),\n",
       "    ('the', 'world', 'can', 'not'),\n",
       "    ('world', 'can', 'not', 'be'),\n",
       "    ('can', 'not', 'be', 'seen'),\n",
       "    ('not', 'be', 'seen', 'or')),\n",
       "   (('the', 'world', 'can', 'not'),\n",
       "    ('world', 'can', 'not', 'be'),\n",
       "    ('can', 'not', 'be', 'seen'),\n",
       "    ('not', 'be', 'seen', 'or'),\n",
       "    ('be', 'seen', 'or', 'even')),\n",
       "   (('world', 'can', 'not', 'be'),\n",
       "    ('can', 'not', 'be', 'seen'),\n",
       "    ('not', 'be', 'seen', 'or'),\n",
       "    ('be', 'seen', 'or', 'even'),\n",
       "    ('seen', 'or', 'even', 'touched')),\n",
       "   (('can', 'not', 'be', 'seen'),\n",
       "    ('not', 'be', 'seen', 'or'),\n",
       "    ('be', 'seen', 'or', 'even'),\n",
       "    ('seen', 'or', 'even', 'touched'),\n",
       "    ('or', 'even', 'touched', ',')))),\n",
       " (((('all', 'most', 'beautifull', 'thing'),\n",
       "    ('most', 'beautifull', 'thing', 'in'),\n",
       "    ('beautifull', 'thing', 'in', 'the'),\n",
       "    ('thing', 'in', 'the', 'world'),\n",
       "    ('in', 'the', 'world', 'can')),\n",
       "   (('most', 'beautifull', 'thing', 'in'),\n",
       "    ('beautifull', 'thing', 'in', 'the'),\n",
       "    ('thing', 'in', 'the', 'world'),\n",
       "    ('in', 'the', 'world', 'can'),\n",
       "    ('the', 'world', 'can', 'not')),\n",
       "   (('beautifull', 'thing', 'in', 'the'),\n",
       "    ('thing', 'in', 'the', 'world'),\n",
       "    ('in', 'the', 'world', 'can'),\n",
       "    ('the', 'world', 'can', 'not'),\n",
       "    ('world', 'can', 'not', 'be')),\n",
       "   (('thing', 'in', 'the', 'world'),\n",
       "    ('in', 'the', 'world', 'can'),\n",
       "    ('the', 'world', 'can', 'not'),\n",
       "    ('world', 'can', 'not', 'be'),\n",
       "    ('can', 'not', 'be', 'seen')),\n",
       "   (('in', 'the', 'world', 'can'),\n",
       "    ('the', 'world', 'can', 'not'),\n",
       "    ('world', 'can', 'not', 'be'),\n",
       "    ('can', 'not', 'be', 'seen'),\n",
       "    ('not', 'be', 'seen', 'or'))),\n",
       "  ((('most', 'beautifull', 'thing', 'in'),\n",
       "    ('beautifull', 'thing', 'in', 'the'),\n",
       "    ('thing', 'in', 'the', 'world'),\n",
       "    ('in', 'the', 'world', 'can'),\n",
       "    ('the', 'world', 'can', 'not')),\n",
       "   (('beautifull', 'thing', 'in', 'the'),\n",
       "    ('thing', 'in', 'the', 'world'),\n",
       "    ('in', 'the', 'world', 'can'),\n",
       "    ('the', 'world', 'can', 'not'),\n",
       "    ('world', 'can', 'not', 'be')),\n",
       "   (('thing', 'in', 'the', 'world'),\n",
       "    ('in', 'the', 'world', 'can'),\n",
       "    ('the', 'world', 'can', 'not'),\n",
       "    ('world', 'can', 'not', 'be'),\n",
       "    ('can', 'not', 'be', 'seen')),\n",
       "   (('in', 'the', 'world', 'can'),\n",
       "    ('the', 'world', 'can', 'not'),\n",
       "    ('world', 'can', 'not', 'be'),\n",
       "    ('can', 'not', 'be', 'seen'),\n",
       "    ('not', 'be', 'seen', 'or')),\n",
       "   (('the', 'world', 'can', 'not'),\n",
       "    ('world', 'can', 'not', 'be'),\n",
       "    ('can', 'not', 'be', 'seen'),\n",
       "    ('not', 'be', 'seen', 'or'),\n",
       "    ('be', 'seen', 'or', 'even'))),\n",
       "  ((('beautifull', 'thing', 'in', 'the'),\n",
       "    ('thing', 'in', 'the', 'world'),\n",
       "    ('in', 'the', 'world', 'can'),\n",
       "    ('the', 'world', 'can', 'not'),\n",
       "    ('world', 'can', 'not', 'be')),\n",
       "   (('thing', 'in', 'the', 'world'),\n",
       "    ('in', 'the', 'world', 'can'),\n",
       "    ('the', 'world', 'can', 'not'),\n",
       "    ('world', 'can', 'not', 'be'),\n",
       "    ('can', 'not', 'be', 'seen')),\n",
       "   (('in', 'the', 'world', 'can'),\n",
       "    ('the', 'world', 'can', 'not'),\n",
       "    ('world', 'can', 'not', 'be'),\n",
       "    ('can', 'not', 'be', 'seen'),\n",
       "    ('not', 'be', 'seen', 'or')),\n",
       "   (('the', 'world', 'can', 'not'),\n",
       "    ('world', 'can', 'not', 'be'),\n",
       "    ('can', 'not', 'be', 'seen'),\n",
       "    ('not', 'be', 'seen', 'or'),\n",
       "    ('be', 'seen', 'or', 'even')),\n",
       "   (('world', 'can', 'not', 'be'),\n",
       "    ('can', 'not', 'be', 'seen'),\n",
       "    ('not', 'be', 'seen', 'or'),\n",
       "    ('be', 'seen', 'or', 'even'),\n",
       "    ('seen', 'or', 'even', 'touched'))),\n",
       "  ((('thing', 'in', 'the', 'world'),\n",
       "    ('in', 'the', 'world', 'can'),\n",
       "    ('the', 'world', 'can', 'not'),\n",
       "    ('world', 'can', 'not', 'be'),\n",
       "    ('can', 'not', 'be', 'seen')),\n",
       "   (('in', 'the', 'world', 'can'),\n",
       "    ('the', 'world', 'can', 'not'),\n",
       "    ('world', 'can', 'not', 'be'),\n",
       "    ('can', 'not', 'be', 'seen'),\n",
       "    ('not', 'be', 'seen', 'or')),\n",
       "   (('the', 'world', 'can', 'not'),\n",
       "    ('world', 'can', 'not', 'be'),\n",
       "    ('can', 'not', 'be', 'seen'),\n",
       "    ('not', 'be', 'seen', 'or'),\n",
       "    ('be', 'seen', 'or', 'even')),\n",
       "   (('world', 'can', 'not', 'be'),\n",
       "    ('can', 'not', 'be', 'seen'),\n",
       "    ('not', 'be', 'seen', 'or'),\n",
       "    ('be', 'seen', 'or', 'even'),\n",
       "    ('seen', 'or', 'even', 'touched')),\n",
       "   (('can', 'not', 'be', 'seen'),\n",
       "    ('not', 'be', 'seen', 'or'),\n",
       "    ('be', 'seen', 'or', 'even'),\n",
       "    ('seen', 'or', 'even', 'touched'),\n",
       "    ('or', 'even', 'touched', ','))),\n",
       "  ((('in', 'the', 'world', 'can'),\n",
       "    ('the', 'world', 'can', 'not'),\n",
       "    ('world', 'can', 'not', 'be'),\n",
       "    ('can', 'not', 'be', 'seen'),\n",
       "    ('not', 'be', 'seen', 'or')),\n",
       "   (('the', 'world', 'can', 'not'),\n",
       "    ('world', 'can', 'not', 'be'),\n",
       "    ('can', 'not', 'be', 'seen'),\n",
       "    ('not', 'be', 'seen', 'or'),\n",
       "    ('be', 'seen', 'or', 'even')),\n",
       "   (('world', 'can', 'not', 'be'),\n",
       "    ('can', 'not', 'be', 'seen'),\n",
       "    ('not', 'be', 'seen', 'or'),\n",
       "    ('be', 'seen', 'or', 'even'),\n",
       "    ('seen', 'or', 'even', 'touched')),\n",
       "   (('can', 'not', 'be', 'seen'),\n",
       "    ('not', 'be', 'seen', 'or'),\n",
       "    ('be', 'seen', 'or', 'even'),\n",
       "    ('seen', 'or', 'even', 'touched'),\n",
       "    ('or', 'even', 'touched', ',')),\n",
       "   (('not', 'be', 'seen', 'or'),\n",
       "    ('be', 'seen', 'or', 'even'),\n",
       "    ('seen', 'or', 'even', 'touched'),\n",
       "    ('or', 'even', 'touched', ','),\n",
       "    ('even', 'touched', ',', 'they')))),\n",
       " (((('most', 'beautifull', 'thing', 'in'),\n",
       "    ('beautifull', 'thing', 'in', 'the'),\n",
       "    ('thing', 'in', 'the', 'world'),\n",
       "    ('in', 'the', 'world', 'can'),\n",
       "    ('the', 'world', 'can', 'not')),\n",
       "   (('beautifull', 'thing', 'in', 'the'),\n",
       "    ('thing', 'in', 'the', 'world'),\n",
       "    ('in', 'the', 'world', 'can'),\n",
       "    ('the', 'world', 'can', 'not'),\n",
       "    ('world', 'can', 'not', 'be')),\n",
       "   (('thing', 'in', 'the', 'world'),\n",
       "    ('in', 'the', 'world', 'can'),\n",
       "    ('the', 'world', 'can', 'not'),\n",
       "    ('world', 'can', 'not', 'be'),\n",
       "    ('can', 'not', 'be', 'seen')),\n",
       "   (('in', 'the', 'world', 'can'),\n",
       "    ('the', 'world', 'can', 'not'),\n",
       "    ('world', 'can', 'not', 'be'),\n",
       "    ('can', 'not', 'be', 'seen'),\n",
       "    ('not', 'be', 'seen', 'or')),\n",
       "   (('the', 'world', 'can', 'not'),\n",
       "    ('world', 'can', 'not', 'be'),\n",
       "    ('can', 'not', 'be', 'seen'),\n",
       "    ('not', 'be', 'seen', 'or'),\n",
       "    ('be', 'seen', 'or', 'even'))),\n",
       "  ((('beautifull', 'thing', 'in', 'the'),\n",
       "    ('thing', 'in', 'the', 'world'),\n",
       "    ('in', 'the', 'world', 'can'),\n",
       "    ('the', 'world', 'can', 'not'),\n",
       "    ('world', 'can', 'not', 'be')),\n",
       "   (('thing', 'in', 'the', 'world'),\n",
       "    ('in', 'the', 'world', 'can'),\n",
       "    ('the', 'world', 'can', 'not'),\n",
       "    ('world', 'can', 'not', 'be'),\n",
       "    ('can', 'not', 'be', 'seen')),\n",
       "   (('in', 'the', 'world', 'can'),\n",
       "    ('the', 'world', 'can', 'not'),\n",
       "    ('world', 'can', 'not', 'be'),\n",
       "    ('can', 'not', 'be', 'seen'),\n",
       "    ('not', 'be', 'seen', 'or')),\n",
       "   (('the', 'world', 'can', 'not'),\n",
       "    ('world', 'can', 'not', 'be'),\n",
       "    ('can', 'not', 'be', 'seen'),\n",
       "    ('not', 'be', 'seen', 'or'),\n",
       "    ('be', 'seen', 'or', 'even')),\n",
       "   (('world', 'can', 'not', 'be'),\n",
       "    ('can', 'not', 'be', 'seen'),\n",
       "    ('not', 'be', 'seen', 'or'),\n",
       "    ('be', 'seen', 'or', 'even'),\n",
       "    ('seen', 'or', 'even', 'touched'))),\n",
       "  ((('thing', 'in', 'the', 'world'),\n",
       "    ('in', 'the', 'world', 'can'),\n",
       "    ('the', 'world', 'can', 'not'),\n",
       "    ('world', 'can', 'not', 'be'),\n",
       "    ('can', 'not', 'be', 'seen')),\n",
       "   (('in', 'the', 'world', 'can'),\n",
       "    ('the', 'world', 'can', 'not'),\n",
       "    ('world', 'can', 'not', 'be'),\n",
       "    ('can', 'not', 'be', 'seen'),\n",
       "    ('not', 'be', 'seen', 'or')),\n",
       "   (('the', 'world', 'can', 'not'),\n",
       "    ('world', 'can', 'not', 'be'),\n",
       "    ('can', 'not', 'be', 'seen'),\n",
       "    ('not', 'be', 'seen', 'or'),\n",
       "    ('be', 'seen', 'or', 'even')),\n",
       "   (('world', 'can', 'not', 'be'),\n",
       "    ('can', 'not', 'be', 'seen'),\n",
       "    ('not', 'be', 'seen', 'or'),\n",
       "    ('be', 'seen', 'or', 'even'),\n",
       "    ('seen', 'or', 'even', 'touched')),\n",
       "   (('can', 'not', 'be', 'seen'),\n",
       "    ('not', 'be', 'seen', 'or'),\n",
       "    ('be', 'seen', 'or', 'even'),\n",
       "    ('seen', 'or', 'even', 'touched'),\n",
       "    ('or', 'even', 'touched', ','))),\n",
       "  ((('in', 'the', 'world', 'can'),\n",
       "    ('the', 'world', 'can', 'not'),\n",
       "    ('world', 'can', 'not', 'be'),\n",
       "    ('can', 'not', 'be', 'seen'),\n",
       "    ('not', 'be', 'seen', 'or')),\n",
       "   (('the', 'world', 'can', 'not'),\n",
       "    ('world', 'can', 'not', 'be'),\n",
       "    ('can', 'not', 'be', 'seen'),\n",
       "    ('not', 'be', 'seen', 'or'),\n",
       "    ('be', 'seen', 'or', 'even')),\n",
       "   (('world', 'can', 'not', 'be'),\n",
       "    ('can', 'not', 'be', 'seen'),\n",
       "    ('not', 'be', 'seen', 'or'),\n",
       "    ('be', 'seen', 'or', 'even'),\n",
       "    ('seen', 'or', 'even', 'touched')),\n",
       "   (('can', 'not', 'be', 'seen'),\n",
       "    ('not', 'be', 'seen', 'or'),\n",
       "    ('be', 'seen', 'or', 'even'),\n",
       "    ('seen', 'or', 'even', 'touched'),\n",
       "    ('or', 'even', 'touched', ',')),\n",
       "   (('not', 'be', 'seen', 'or'),\n",
       "    ('be', 'seen', 'or', 'even'),\n",
       "    ('seen', 'or', 'even', 'touched'),\n",
       "    ('or', 'even', 'touched', ','),\n",
       "    ('even', 'touched', ',', 'they'))),\n",
       "  ((('the', 'world', 'can', 'not'),\n",
       "    ('world', 'can', 'not', 'be'),\n",
       "    ('can', 'not', 'be', 'seen'),\n",
       "    ('not', 'be', 'seen', 'or'),\n",
       "    ('be', 'seen', 'or', 'even')),\n",
       "   (('world', 'can', 'not', 'be'),\n",
       "    ('can', 'not', 'be', 'seen'),\n",
       "    ('not', 'be', 'seen', 'or'),\n",
       "    ('be', 'seen', 'or', 'even'),\n",
       "    ('seen', 'or', 'even', 'touched')),\n",
       "   (('can', 'not', 'be', 'seen'),\n",
       "    ('not', 'be', 'seen', 'or'),\n",
       "    ('be', 'seen', 'or', 'even'),\n",
       "    ('seen', 'or', 'even', 'touched'),\n",
       "    ('or', 'even', 'touched', ',')),\n",
       "   (('not', 'be', 'seen', 'or'),\n",
       "    ('be', 'seen', 'or', 'even'),\n",
       "    ('seen', 'or', 'even', 'touched'),\n",
       "    ('or', 'even', 'touched', ','),\n",
       "    ('even', 'touched', ',', 'they')),\n",
       "   (('be', 'seen', 'or', 'even'),\n",
       "    ('seen', 'or', 'even', 'touched'),\n",
       "    ('or', 'even', 'touched', ','),\n",
       "    ('even', 'touched', ',', 'they'),\n",
       "    ('touched', ',', 'they', 'must')))),\n",
       " (((('beautifull', 'thing', 'in', 'the'),\n",
       "    ('thing', 'in', 'the', 'world'),\n",
       "    ('in', 'the', 'world', 'can'),\n",
       "    ('the', 'world', 'can', 'not'),\n",
       "    ('world', 'can', 'not', 'be')),\n",
       "   (('thing', 'in', 'the', 'world'),\n",
       "    ('in', 'the', 'world', 'can'),\n",
       "    ('the', 'world', 'can', 'not'),\n",
       "    ('world', 'can', 'not', 'be'),\n",
       "    ('can', 'not', 'be', 'seen')),\n",
       "   (('in', 'the', 'world', 'can'),\n",
       "    ('the', 'world', 'can', 'not'),\n",
       "    ('world', 'can', 'not', 'be'),\n",
       "    ('can', 'not', 'be', 'seen'),\n",
       "    ('not', 'be', 'seen', 'or')),\n",
       "   (('the', 'world', 'can', 'not'),\n",
       "    ('world', 'can', 'not', 'be'),\n",
       "    ('can', 'not', 'be', 'seen'),\n",
       "    ('not', 'be', 'seen', 'or'),\n",
       "    ('be', 'seen', 'or', 'even')),\n",
       "   (('world', 'can', 'not', 'be'),\n",
       "    ('can', 'not', 'be', 'seen'),\n",
       "    ('not', 'be', 'seen', 'or'),\n",
       "    ('be', 'seen', 'or', 'even'),\n",
       "    ('seen', 'or', 'even', 'touched'))),\n",
       "  ((('thing', 'in', 'the', 'world'),\n",
       "    ('in', 'the', 'world', 'can'),\n",
       "    ('the', 'world', 'can', 'not'),\n",
       "    ('world', 'can', 'not', 'be'),\n",
       "    ('can', 'not', 'be', 'seen')),\n",
       "   (('in', 'the', 'world', 'can'),\n",
       "    ('the', 'world', 'can', 'not'),\n",
       "    ('world', 'can', 'not', 'be'),\n",
       "    ('can', 'not', 'be', 'seen'),\n",
       "    ('not', 'be', 'seen', 'or')),\n",
       "   (('the', 'world', 'can', 'not'),\n",
       "    ('world', 'can', 'not', 'be'),\n",
       "    ('can', 'not', 'be', 'seen'),\n",
       "    ('not', 'be', 'seen', 'or'),\n",
       "    ('be', 'seen', 'or', 'even')),\n",
       "   (('world', 'can', 'not', 'be'),\n",
       "    ('can', 'not', 'be', 'seen'),\n",
       "    ('not', 'be', 'seen', 'or'),\n",
       "    ('be', 'seen', 'or', 'even'),\n",
       "    ('seen', 'or', 'even', 'touched')),\n",
       "   (('can', 'not', 'be', 'seen'),\n",
       "    ('not', 'be', 'seen', 'or'),\n",
       "    ('be', 'seen', 'or', 'even'),\n",
       "    ('seen', 'or', 'even', 'touched'),\n",
       "    ('or', 'even', 'touched', ','))),\n",
       "  ((('in', 'the', 'world', 'can'),\n",
       "    ('the', 'world', 'can', 'not'),\n",
       "    ('world', 'can', 'not', 'be'),\n",
       "    ('can', 'not', 'be', 'seen'),\n",
       "    ('not', 'be', 'seen', 'or')),\n",
       "   (('the', 'world', 'can', 'not'),\n",
       "    ('world', 'can', 'not', 'be'),\n",
       "    ('can', 'not', 'be', 'seen'),\n",
       "    ('not', 'be', 'seen', 'or'),\n",
       "    ('be', 'seen', 'or', 'even')),\n",
       "   (('world', 'can', 'not', 'be'),\n",
       "    ('can', 'not', 'be', 'seen'),\n",
       "    ('not', 'be', 'seen', 'or'),\n",
       "    ('be', 'seen', 'or', 'even'),\n",
       "    ('seen', 'or', 'even', 'touched')),\n",
       "   (('can', 'not', 'be', 'seen'),\n",
       "    ('not', 'be', 'seen', 'or'),\n",
       "    ('be', 'seen', 'or', 'even'),\n",
       "    ('seen', 'or', 'even', 'touched'),\n",
       "    ('or', 'even', 'touched', ',')),\n",
       "   (('not', 'be', 'seen', 'or'),\n",
       "    ('be', 'seen', 'or', 'even'),\n",
       "    ('seen', 'or', 'even', 'touched'),\n",
       "    ('or', 'even', 'touched', ','),\n",
       "    ('even', 'touched', ',', 'they'))),\n",
       "  ((('the', 'world', 'can', 'not'),\n",
       "    ('world', 'can', 'not', 'be'),\n",
       "    ('can', 'not', 'be', 'seen'),\n",
       "    ('not', 'be', 'seen', 'or'),\n",
       "    ('be', 'seen', 'or', 'even')),\n",
       "   (('world', 'can', 'not', 'be'),\n",
       "    ('can', 'not', 'be', 'seen'),\n",
       "    ('not', 'be', 'seen', 'or'),\n",
       "    ('be', 'seen', 'or', 'even'),\n",
       "    ('seen', 'or', 'even', 'touched')),\n",
       "   (('can', 'not', 'be', 'seen'),\n",
       "    ('not', 'be', 'seen', 'or'),\n",
       "    ('be', 'seen', 'or', 'even'),\n",
       "    ('seen', 'or', 'even', 'touched'),\n",
       "    ('or', 'even', 'touched', ',')),\n",
       "   (('not', 'be', 'seen', 'or'),\n",
       "    ('be', 'seen', 'or', 'even'),\n",
       "    ('seen', 'or', 'even', 'touched'),\n",
       "    ('or', 'even', 'touched', ','),\n",
       "    ('even', 'touched', ',', 'they')),\n",
       "   (('be', 'seen', 'or', 'even'),\n",
       "    ('seen', 'or', 'even', 'touched'),\n",
       "    ('or', 'even', 'touched', ','),\n",
       "    ('even', 'touched', ',', 'they'),\n",
       "    ('touched', ',', 'they', 'must'))),\n",
       "  ((('world', 'can', 'not', 'be'),\n",
       "    ('can', 'not', 'be', 'seen'),\n",
       "    ('not', 'be', 'seen', 'or'),\n",
       "    ('be', 'seen', 'or', 'even'),\n",
       "    ('seen', 'or', 'even', 'touched')),\n",
       "   (('can', 'not', 'be', 'seen'),\n",
       "    ('not', 'be', 'seen', 'or'),\n",
       "    ('be', 'seen', 'or', 'even'),\n",
       "    ('seen', 'or', 'even', 'touched'),\n",
       "    ('or', 'even', 'touched', ',')),\n",
       "   (('not', 'be', 'seen', 'or'),\n",
       "    ('be', 'seen', 'or', 'even'),\n",
       "    ('seen', 'or', 'even', 'touched'),\n",
       "    ('or', 'even', 'touched', ','),\n",
       "    ('even', 'touched', ',', 'they')),\n",
       "   (('be', 'seen', 'or', 'even'),\n",
       "    ('seen', 'or', 'even', 'touched'),\n",
       "    ('or', 'even', 'touched', ','),\n",
       "    ('even', 'touched', ',', 'they'),\n",
       "    ('touched', ',', 'they', 'must')),\n",
       "   (('seen', 'or', 'even', 'touched'),\n",
       "    ('or', 'even', 'touched', ','),\n",
       "    ('even', 'touched', ',', 'they'),\n",
       "    ('touched', ',', 'they', 'must'),\n",
       "    (',', 'they', 'must', 'be')))),\n",
       " (((('thing', 'in', 'the', 'world'),\n",
       "    ('in', 'the', 'world', 'can'),\n",
       "    ('the', 'world', 'can', 'not'),\n",
       "    ('world', 'can', 'not', 'be'),\n",
       "    ('can', 'not', 'be', 'seen')),\n",
       "   (('in', 'the', 'world', 'can'),\n",
       "    ('the', 'world', 'can', 'not'),\n",
       "    ('world', 'can', 'not', 'be'),\n",
       "    ('can', 'not', 'be', 'seen'),\n",
       "    ('not', 'be', 'seen', 'or')),\n",
       "   (('the', 'world', 'can', 'not'),\n",
       "    ('world', 'can', 'not', 'be'),\n",
       "    ('can', 'not', 'be', 'seen'),\n",
       "    ('not', 'be', 'seen', 'or'),\n",
       "    ('be', 'seen', 'or', 'even')),\n",
       "   (('world', 'can', 'not', 'be'),\n",
       "    ('can', 'not', 'be', 'seen'),\n",
       "    ('not', 'be', 'seen', 'or'),\n",
       "    ('be', 'seen', 'or', 'even'),\n",
       "    ('seen', 'or', 'even', 'touched')),\n",
       "   (('can', 'not', 'be', 'seen'),\n",
       "    ('not', 'be', 'seen', 'or'),\n",
       "    ('be', 'seen', 'or', 'even'),\n",
       "    ('seen', 'or', 'even', 'touched'),\n",
       "    ('or', 'even', 'touched', ','))),\n",
       "  ((('in', 'the', 'world', 'can'),\n",
       "    ('the', 'world', 'can', 'not'),\n",
       "    ('world', 'can', 'not', 'be'),\n",
       "    ('can', 'not', 'be', 'seen'),\n",
       "    ('not', 'be', 'seen', 'or')),\n",
       "   (('the', 'world', 'can', 'not'),\n",
       "    ('world', 'can', 'not', 'be'),\n",
       "    ('can', 'not', 'be', 'seen'),\n",
       "    ('not', 'be', 'seen', 'or'),\n",
       "    ('be', 'seen', 'or', 'even')),\n",
       "   (('world', 'can', 'not', 'be'),\n",
       "    ('can', 'not', 'be', 'seen'),\n",
       "    ('not', 'be', 'seen', 'or'),\n",
       "    ('be', 'seen', 'or', 'even'),\n",
       "    ('seen', 'or', 'even', 'touched')),\n",
       "   (('can', 'not', 'be', 'seen'),\n",
       "    ('not', 'be', 'seen', 'or'),\n",
       "    ('be', 'seen', 'or', 'even'),\n",
       "    ('seen', 'or', 'even', 'touched'),\n",
       "    ('or', 'even', 'touched', ',')),\n",
       "   (('not', 'be', 'seen', 'or'),\n",
       "    ('be', 'seen', 'or', 'even'),\n",
       "    ('seen', 'or', 'even', 'touched'),\n",
       "    ('or', 'even', 'touched', ','),\n",
       "    ('even', 'touched', ',', 'they'))),\n",
       "  ((('the', 'world', 'can', 'not'),\n",
       "    ('world', 'can', 'not', 'be'),\n",
       "    ('can', 'not', 'be', 'seen'),\n",
       "    ('not', 'be', 'seen', 'or'),\n",
       "    ('be', 'seen', 'or', 'even')),\n",
       "   (('world', 'can', 'not', 'be'),\n",
       "    ('can', 'not', 'be', 'seen'),\n",
       "    ('not', 'be', 'seen', 'or'),\n",
       "    ('be', 'seen', 'or', 'even'),\n",
       "    ('seen', 'or', 'even', 'touched')),\n",
       "   (('can', 'not', 'be', 'seen'),\n",
       "    ('not', 'be', 'seen', 'or'),\n",
       "    ('be', 'seen', 'or', 'even'),\n",
       "    ('seen', 'or', 'even', 'touched'),\n",
       "    ('or', 'even', 'touched', ',')),\n",
       "   (('not', 'be', 'seen', 'or'),\n",
       "    ('be', 'seen', 'or', 'even'),\n",
       "    ('seen', 'or', 'even', 'touched'),\n",
       "    ('or', 'even', 'touched', ','),\n",
       "    ('even', 'touched', ',', 'they')),\n",
       "   (('be', 'seen', 'or', 'even'),\n",
       "    ('seen', 'or', 'even', 'touched'),\n",
       "    ('or', 'even', 'touched', ','),\n",
       "    ('even', 'touched', ',', 'they'),\n",
       "    ('touched', ',', 'they', 'must'))),\n",
       "  ((('world', 'can', 'not', 'be'),\n",
       "    ('can', 'not', 'be', 'seen'),\n",
       "    ('not', 'be', 'seen', 'or'),\n",
       "    ('be', 'seen', 'or', 'even'),\n",
       "    ('seen', 'or', 'even', 'touched')),\n",
       "   (('can', 'not', 'be', 'seen'),\n",
       "    ('not', 'be', 'seen', 'or'),\n",
       "    ('be', 'seen', 'or', 'even'),\n",
       "    ('seen', 'or', 'even', 'touched'),\n",
       "    ('or', 'even', 'touched', ',')),\n",
       "   (('not', 'be', 'seen', 'or'),\n",
       "    ('be', 'seen', 'or', 'even'),\n",
       "    ('seen', 'or', 'even', 'touched'),\n",
       "    ('or', 'even', 'touched', ','),\n",
       "    ('even', 'touched', ',', 'they')),\n",
       "   (('be', 'seen', 'or', 'even'),\n",
       "    ('seen', 'or', 'even', 'touched'),\n",
       "    ('or', 'even', 'touched', ','),\n",
       "    ('even', 'touched', ',', 'they'),\n",
       "    ('touched', ',', 'they', 'must')),\n",
       "   (('seen', 'or', 'even', 'touched'),\n",
       "    ('or', 'even', 'touched', ','),\n",
       "    ('even', 'touched', ',', 'they'),\n",
       "    ('touched', ',', 'they', 'must'),\n",
       "    (',', 'they', 'must', 'be'))),\n",
       "  ((('can', 'not', 'be', 'seen'),\n",
       "    ('not', 'be', 'seen', 'or'),\n",
       "    ('be', 'seen', 'or', 'even'),\n",
       "    ('seen', 'or', 'even', 'touched'),\n",
       "    ('or', 'even', 'touched', ',')),\n",
       "   (('not', 'be', 'seen', 'or'),\n",
       "    ('be', 'seen', 'or', 'even'),\n",
       "    ('seen', 'or', 'even', 'touched'),\n",
       "    ('or', 'even', 'touched', ','),\n",
       "    ('even', 'touched', ',', 'they')),\n",
       "   (('be', 'seen', 'or', 'even'),\n",
       "    ('seen', 'or', 'even', 'touched'),\n",
       "    ('or', 'even', 'touched', ','),\n",
       "    ('even', 'touched', ',', 'they'),\n",
       "    ('touched', ',', 'they', 'must')),\n",
       "   (('seen', 'or', 'even', 'touched'),\n",
       "    ('or', 'even', 'touched', ','),\n",
       "    ('even', 'touched', ',', 'they'),\n",
       "    ('touched', ',', 'they', 'must'),\n",
       "    (',', 'they', 'must', 'be')),\n",
       "   (('or', 'even', 'touched', ','),\n",
       "    ('even', 'touched', ',', 'they'),\n",
       "    ('touched', ',', 'they', 'must'),\n",
       "    (',', 'they', 'must', 'be'),\n",
       "    ('they', 'must', 'be', 'felt')))),\n",
       " (((('in', 'the', 'world', 'can'),\n",
       "    ('the', 'world', 'can', 'not'),\n",
       "    ('world', 'can', 'not', 'be'),\n",
       "    ('can', 'not', 'be', 'seen'),\n",
       "    ('not', 'be', 'seen', 'or')),\n",
       "   (('the', 'world', 'can', 'not'),\n",
       "    ('world', 'can', 'not', 'be'),\n",
       "    ('can', 'not', 'be', 'seen'),\n",
       "    ('not', 'be', 'seen', 'or'),\n",
       "    ('be', 'seen', 'or', 'even')),\n",
       "   (('world', 'can', 'not', 'be'),\n",
       "    ('can', 'not', 'be', 'seen'),\n",
       "    ('not', 'be', 'seen', 'or'),\n",
       "    ('be', 'seen', 'or', 'even'),\n",
       "    ('seen', 'or', 'even', 'touched')),\n",
       "   (('can', 'not', 'be', 'seen'),\n",
       "    ('not', 'be', 'seen', 'or'),\n",
       "    ('be', 'seen', 'or', 'even'),\n",
       "    ('seen', 'or', 'even', 'touched'),\n",
       "    ('or', 'even', 'touched', ',')),\n",
       "   (('not', 'be', 'seen', 'or'),\n",
       "    ('be', 'seen', 'or', 'even'),\n",
       "    ('seen', 'or', 'even', 'touched'),\n",
       "    ('or', 'even', 'touched', ','),\n",
       "    ('even', 'touched', ',', 'they'))),\n",
       "  ((('the', 'world', 'can', 'not'),\n",
       "    ('world', 'can', 'not', 'be'),\n",
       "    ('can', 'not', 'be', 'seen'),\n",
       "    ('not', 'be', 'seen', 'or'),\n",
       "    ('be', 'seen', 'or', 'even')),\n",
       "   (('world', 'can', 'not', 'be'),\n",
       "    ('can', 'not', 'be', 'seen'),\n",
       "    ('not', 'be', 'seen', 'or'),\n",
       "    ('be', 'seen', 'or', 'even'),\n",
       "    ('seen', 'or', 'even', 'touched')),\n",
       "   (('can', 'not', 'be', 'seen'),\n",
       "    ('not', 'be', 'seen', 'or'),\n",
       "    ('be', 'seen', 'or', 'even'),\n",
       "    ('seen', 'or', 'even', 'touched'),\n",
       "    ('or', 'even', 'touched', ',')),\n",
       "   (('not', 'be', 'seen', 'or'),\n",
       "    ('be', 'seen', 'or', 'even'),\n",
       "    ('seen', 'or', 'even', 'touched'),\n",
       "    ('or', 'even', 'touched', ','),\n",
       "    ('even', 'touched', ',', 'they')),\n",
       "   (('be', 'seen', 'or', 'even'),\n",
       "    ('seen', 'or', 'even', 'touched'),\n",
       "    ('or', 'even', 'touched', ','),\n",
       "    ('even', 'touched', ',', 'they'),\n",
       "    ('touched', ',', 'they', 'must'))),\n",
       "  ((('world', 'can', 'not', 'be'),\n",
       "    ('can', 'not', 'be', 'seen'),\n",
       "    ('not', 'be', 'seen', 'or'),\n",
       "    ('be', 'seen', 'or', 'even'),\n",
       "    ('seen', 'or', 'even', 'touched')),\n",
       "   (('can', 'not', 'be', 'seen'),\n",
       "    ('not', 'be', 'seen', 'or'),\n",
       "    ('be', 'seen', 'or', 'even'),\n",
       "    ('seen', 'or', 'even', 'touched'),\n",
       "    ('or', 'even', 'touched', ',')),\n",
       "   (('not', 'be', 'seen', 'or'),\n",
       "    ('be', 'seen', 'or', 'even'),\n",
       "    ('seen', 'or', 'even', 'touched'),\n",
       "    ('or', 'even', 'touched', ','),\n",
       "    ('even', 'touched', ',', 'they')),\n",
       "   (('be', 'seen', 'or', 'even'),\n",
       "    ('seen', 'or', 'even', 'touched'),\n",
       "    ('or', 'even', 'touched', ','),\n",
       "    ('even', 'touched', ',', 'they'),\n",
       "    ('touched', ',', 'they', 'must')),\n",
       "   (('seen', 'or', 'even', 'touched'),\n",
       "    ('or', 'even', 'touched', ','),\n",
       "    ('even', 'touched', ',', 'they'),\n",
       "    ('touched', ',', 'they', 'must'),\n",
       "    (',', 'they', 'must', 'be'))),\n",
       "  ((('can', 'not', 'be', 'seen'),\n",
       "    ('not', 'be', 'seen', 'or'),\n",
       "    ('be', 'seen', 'or', 'even'),\n",
       "    ('seen', 'or', 'even', 'touched'),\n",
       "    ('or', 'even', 'touched', ',')),\n",
       "   (('not', 'be', 'seen', 'or'),\n",
       "    ('be', 'seen', 'or', 'even'),\n",
       "    ('seen', 'or', 'even', 'touched'),\n",
       "    ('or', 'even', 'touched', ','),\n",
       "    ('even', 'touched', ',', 'they')),\n",
       "   (('be', 'seen', 'or', 'even'),\n",
       "    ('seen', 'or', 'even', 'touched'),\n",
       "    ('or', 'even', 'touched', ','),\n",
       "    ('even', 'touched', ',', 'they'),\n",
       "    ('touched', ',', 'they', 'must')),\n",
       "   (('seen', 'or', 'even', 'touched'),\n",
       "    ('or', 'even', 'touched', ','),\n",
       "    ('even', 'touched', ',', 'they'),\n",
       "    ('touched', ',', 'they', 'must'),\n",
       "    (',', 'they', 'must', 'be')),\n",
       "   (('or', 'even', 'touched', ','),\n",
       "    ('even', 'touched', ',', 'they'),\n",
       "    ('touched', ',', 'they', 'must'),\n",
       "    (',', 'they', 'must', 'be'),\n",
       "    ('they', 'must', 'be', 'felt'))),\n",
       "  ((('not', 'be', 'seen', 'or'),\n",
       "    ('be', 'seen', 'or', 'even'),\n",
       "    ('seen', 'or', 'even', 'touched'),\n",
       "    ('or', 'even', 'touched', ','),\n",
       "    ('even', 'touched', ',', 'they')),\n",
       "   (('be', 'seen', 'or', 'even'),\n",
       "    ('seen', 'or', 'even', 'touched'),\n",
       "    ('or', 'even', 'touched', ','),\n",
       "    ('even', 'touched', ',', 'they'),\n",
       "    ('touched', ',', 'they', 'must')),\n",
       "   (('seen', 'or', 'even', 'touched'),\n",
       "    ('or', 'even', 'touched', ','),\n",
       "    ('even', 'touched', ',', 'they'),\n",
       "    ('touched', ',', 'they', 'must'),\n",
       "    (',', 'they', 'must', 'be')),\n",
       "   (('or', 'even', 'touched', ','),\n",
       "    ('even', 'touched', ',', 'they'),\n",
       "    ('touched', ',', 'they', 'must'),\n",
       "    (',', 'they', 'must', 'be'),\n",
       "    ('they', 'must', 'be', 'felt')),\n",
       "   (('even', 'touched', ',', 'they'),\n",
       "    ('touched', ',', 'they', 'must'),\n",
       "    (',', 'they', 'must', 'be'),\n",
       "    ('they', 'must', 'be', 'felt'),\n",
       "    ('must', 'be', 'felt', 'with')))),\n",
       " (((('the', 'world', 'can', 'not'),\n",
       "    ('world', 'can', 'not', 'be'),\n",
       "    ('can', 'not', 'be', 'seen'),\n",
       "    ('not', 'be', 'seen', 'or'),\n",
       "    ('be', 'seen', 'or', 'even')),\n",
       "   (('world', 'can', 'not', 'be'),\n",
       "    ('can', 'not', 'be', 'seen'),\n",
       "    ('not', 'be', 'seen', 'or'),\n",
       "    ('be', 'seen', 'or', 'even'),\n",
       "    ('seen', 'or', 'even', 'touched')),\n",
       "   (('can', 'not', 'be', 'seen'),\n",
       "    ('not', 'be', 'seen', 'or'),\n",
       "    ('be', 'seen', 'or', 'even'),\n",
       "    ('seen', 'or', 'even', 'touched'),\n",
       "    ('or', 'even', 'touched', ',')),\n",
       "   (('not', 'be', 'seen', 'or'),\n",
       "    ('be', 'seen', 'or', 'even'),\n",
       "    ('seen', 'or', 'even', 'touched'),\n",
       "    ('or', 'even', 'touched', ','),\n",
       "    ('even', 'touched', ',', 'they')),\n",
       "   (('be', 'seen', 'or', 'even'),\n",
       "    ('seen', 'or', 'even', 'touched'),\n",
       "    ('or', 'even', 'touched', ','),\n",
       "    ('even', 'touched', ',', 'they'),\n",
       "    ('touched', ',', 'they', 'must'))),\n",
       "  ((('world', 'can', 'not', 'be'),\n",
       "    ('can', 'not', 'be', 'seen'),\n",
       "    ('not', 'be', 'seen', 'or'),\n",
       "    ('be', 'seen', 'or', 'even'),\n",
       "    ('seen', 'or', 'even', 'touched')),\n",
       "   (('can', 'not', 'be', 'seen'),\n",
       "    ('not', 'be', 'seen', 'or'),\n",
       "    ('be', 'seen', 'or', 'even'),\n",
       "    ('seen', 'or', 'even', 'touched'),\n",
       "    ('or', 'even', 'touched', ',')),\n",
       "   (('not', 'be', 'seen', 'or'),\n",
       "    ('be', 'seen', 'or', 'even'),\n",
       "    ('seen', 'or', 'even', 'touched'),\n",
       "    ('or', 'even', 'touched', ','),\n",
       "    ('even', 'touched', ',', 'they')),\n",
       "   (('be', 'seen', 'or', 'even'),\n",
       "    ('seen', 'or', 'even', 'touched'),\n",
       "    ('or', 'even', 'touched', ','),\n",
       "    ('even', 'touched', ',', 'they'),\n",
       "    ('touched', ',', 'they', 'must')),\n",
       "   (('seen', 'or', 'even', 'touched'),\n",
       "    ('or', 'even', 'touched', ','),\n",
       "    ('even', 'touched', ',', 'they'),\n",
       "    ('touched', ',', 'they', 'must'),\n",
       "    (',', 'they', 'must', 'be'))),\n",
       "  ((('can', 'not', 'be', 'seen'),\n",
       "    ('not', 'be', 'seen', 'or'),\n",
       "    ('be', 'seen', 'or', 'even'),\n",
       "    ('seen', 'or', 'even', 'touched'),\n",
       "    ('or', 'even', 'touched', ',')),\n",
       "   (('not', 'be', 'seen', 'or'),\n",
       "    ('be', 'seen', 'or', 'even'),\n",
       "    ('seen', 'or', 'even', 'touched'),\n",
       "    ('or', 'even', 'touched', ','),\n",
       "    ('even', 'touched', ',', 'they')),\n",
       "   (('be', 'seen', 'or', 'even'),\n",
       "    ('seen', 'or', 'even', 'touched'),\n",
       "    ('or', 'even', 'touched', ','),\n",
       "    ('even', 'touched', ',', 'they'),\n",
       "    ('touched', ',', 'they', 'must')),\n",
       "   (('seen', 'or', 'even', 'touched'),\n",
       "    ('or', 'even', 'touched', ','),\n",
       "    ('even', 'touched', ',', 'they'),\n",
       "    ('touched', ',', 'they', 'must'),\n",
       "    (',', 'they', 'must', 'be')),\n",
       "   (('or', 'even', 'touched', ','),\n",
       "    ('even', 'touched', ',', 'they'),\n",
       "    ('touched', ',', 'they', 'must'),\n",
       "    (',', 'they', 'must', 'be'),\n",
       "    ('they', 'must', 'be', 'felt'))),\n",
       "  ((('not', 'be', 'seen', 'or'),\n",
       "    ('be', 'seen', 'or', 'even'),\n",
       "    ('seen', 'or', 'even', 'touched'),\n",
       "    ('or', 'even', 'touched', ','),\n",
       "    ('even', 'touched', ',', 'they')),\n",
       "   (('be', 'seen', 'or', 'even'),\n",
       "    ('seen', 'or', 'even', 'touched'),\n",
       "    ('or', 'even', 'touched', ','),\n",
       "    ('even', 'touched', ',', 'they'),\n",
       "    ('touched', ',', 'they', 'must')),\n",
       "   (('seen', 'or', 'even', 'touched'),\n",
       "    ('or', 'even', 'touched', ','),\n",
       "    ('even', 'touched', ',', 'they'),\n",
       "    ('touched', ',', 'they', 'must'),\n",
       "    (',', 'they', 'must', 'be')),\n",
       "   (('or', 'even', 'touched', ','),\n",
       "    ('even', 'touched', ',', 'they'),\n",
       "    ('touched', ',', 'they', 'must'),\n",
       "    (',', 'they', 'must', 'be'),\n",
       "    ('they', 'must', 'be', 'felt')),\n",
       "   (('even', 'touched', ',', 'they'),\n",
       "    ('touched', ',', 'they', 'must'),\n",
       "    (',', 'they', 'must', 'be'),\n",
       "    ('they', 'must', 'be', 'felt'),\n",
       "    ('must', 'be', 'felt', 'with'))),\n",
       "  ((('be', 'seen', 'or', 'even'),\n",
       "    ('seen', 'or', 'even', 'touched'),\n",
       "    ('or', 'even', 'touched', ','),\n",
       "    ('even', 'touched', ',', 'they'),\n",
       "    ('touched', ',', 'they', 'must')),\n",
       "   (('seen', 'or', 'even', 'touched'),\n",
       "    ('or', 'even', 'touched', ','),\n",
       "    ('even', 'touched', ',', 'they'),\n",
       "    ('touched', ',', 'they', 'must'),\n",
       "    (',', 'they', 'must', 'be')),\n",
       "   (('or', 'even', 'touched', ','),\n",
       "    ('even', 'touched', ',', 'they'),\n",
       "    ('touched', ',', 'they', 'must'),\n",
       "    (',', 'they', 'must', 'be'),\n",
       "    ('they', 'must', 'be', 'felt')),\n",
       "   (('even', 'touched', ',', 'they'),\n",
       "    ('touched', ',', 'they', 'must'),\n",
       "    (',', 'they', 'must', 'be'),\n",
       "    ('they', 'must', 'be', 'felt'),\n",
       "    ('must', 'be', 'felt', 'with')),\n",
       "   (('touched', ',', 'they', 'must'),\n",
       "    (',', 'they', 'must', 'be'),\n",
       "    ('they', 'must', 'be', 'felt'),\n",
       "    ('must', 'be', 'felt', 'with'),\n",
       "    ('be', 'felt', 'with', 'heart'))))]"
      ]
     },
     "execution_count": 40,
     "metadata": {},
     "output_type": "execute_result"
    }
   ],
   "source": [
    "quotes_ngrams_1=list(nltk.ngrams(quotes_ngrams,5))\n",
    "quotes_ngrams_1"
   ]
  },
  {
   "cell_type": "code",
   "execution_count": 41,
   "id": "8277a229",
   "metadata": {},
   "outputs": [
    {
     "data": {
      "text/plain": [
       "[('the', 'best', 'and', 'all', 'most', 'beautifull', 'thing', 'in', 'the'),\n",
       " ('best', 'and', 'all', 'most', 'beautifull', 'thing', 'in', 'the', 'world'),\n",
       " ('and', 'all', 'most', 'beautifull', 'thing', 'in', 'the', 'world', 'can'),\n",
       " ('all', 'most', 'beautifull', 'thing', 'in', 'the', 'world', 'can', 'not'),\n",
       " ('most', 'beautifull', 'thing', 'in', 'the', 'world', 'can', 'not', 'be'),\n",
       " ('beautifull', 'thing', 'in', 'the', 'world', 'can', 'not', 'be', 'seen'),\n",
       " ('thing', 'in', 'the', 'world', 'can', 'not', 'be', 'seen', 'or'),\n",
       " ('in', 'the', 'world', 'can', 'not', 'be', 'seen', 'or', 'even'),\n",
       " ('the', 'world', 'can', 'not', 'be', 'seen', 'or', 'even', 'touched'),\n",
       " ('world', 'can', 'not', 'be', 'seen', 'or', 'even', 'touched', ','),\n",
       " ('can', 'not', 'be', 'seen', 'or', 'even', 'touched', ',', 'they'),\n",
       " ('not', 'be', 'seen', 'or', 'even', 'touched', ',', 'they', 'must'),\n",
       " ('be', 'seen', 'or', 'even', 'touched', ',', 'they', 'must', 'be'),\n",
       " ('seen', 'or', 'even', 'touched', ',', 'they', 'must', 'be', 'felt'),\n",
       " ('or', 'even', 'touched', ',', 'they', 'must', 'be', 'felt', 'with'),\n",
       " ('even', 'touched', ',', 'they', 'must', 'be', 'felt', 'with', 'heart')]"
      ]
     },
     "execution_count": 41,
     "metadata": {},
     "output_type": "execute_result"
    }
   ],
   "source": [
    "quotes_ngrams=list(nltk.ngrams(quotes_tokens,9))\n",
    "quotes_ngrams"
   ]
  },
  {
   "cell_type": "code",
   "execution_count": 43,
   "id": "677d646a",
   "metadata": {},
   "outputs": [],
   "source": [
    "from nltk.stem import PorterStemmer"
   ]
  },
  {
   "cell_type": "code",
   "execution_count": 44,
   "id": "f1c41016",
   "metadata": {},
   "outputs": [],
   "source": [
    "pst=PorterStemmer()"
   ]
  },
  {
   "cell_type": "code",
   "execution_count": 45,
   "id": "e174771d",
   "metadata": {},
   "outputs": [
    {
     "data": {
      "text/plain": [
       "'have'"
      ]
     },
     "execution_count": 45,
     "metadata": {},
     "output_type": "execute_result"
    }
   ],
   "source": [
    "pst.stem('having')"
   ]
  },
  {
   "cell_type": "code",
   "execution_count": 46,
   "id": "55850072",
   "metadata": {},
   "outputs": [
    {
     "data": {
      "text/plain": [
       "'affect'"
      ]
     },
     "execution_count": 46,
     "metadata": {},
     "output_type": "execute_result"
    }
   ],
   "source": [
    "pst.stem('affection')"
   ]
  },
  {
   "cell_type": "code",
   "execution_count": 48,
   "id": "2681b3bd",
   "metadata": {},
   "outputs": [
    {
     "data": {
      "text/plain": [
       "'play'"
      ]
     },
     "execution_count": 48,
     "metadata": {},
     "output_type": "execute_result"
    }
   ],
   "source": [
    "pst.stem('playing')"
   ]
  },
  {
   "cell_type": "code",
   "execution_count": 49,
   "id": "a0823fcd",
   "metadata": {},
   "outputs": [
    {
     "data": {
      "text/plain": [
       "'give'"
      ]
     },
     "execution_count": 49,
     "metadata": {},
     "output_type": "execute_result"
    }
   ],
   "source": [
    "pst.stem('give')"
   ]
  },
  {
   "cell_type": "code",
   "execution_count": 51,
   "id": "71fc6287",
   "metadata": {},
   "outputs": [
    {
     "name": "stdout",
     "output_type": "stream",
     "text": [
      "give:give\n",
      "giving:give\n",
      "given:given\n",
      "gave:gave\n"
     ]
    }
   ],
   "source": [
    "words_to_stem=['give','giving','given','gave']\n",
    "for words in words_to_stem:\n",
    "    print(words+ ':' + pst.stem(words))"
   ]
  },
  {
   "cell_type": "code",
   "execution_count": 52,
   "id": "eda7d5fd",
   "metadata": {},
   "outputs": [
    {
     "name": "stdout",
     "output_type": "stream",
     "text": [
      "give:give\n",
      "giving:give\n",
      "given:given\n",
      "gave:gave\n",
      "thinking:think\n",
      "loving:love\n",
      "final:final\n",
      "finalized:final\n",
      "finally:final\n"
     ]
    }
   ],
   "source": [
    "words_to_stem=['give','giving','given','gave','thinking', 'loving', 'final', 'finalized', 'finally']\n",
    "\n",
    "for words in words_to_stem:\n",
    "    print(words+ ':' + pst.stem(words))"
   ]
  },
  {
   "cell_type": "code",
   "execution_count": 53,
   "id": "1a9a6fe7",
   "metadata": {},
   "outputs": [
    {
     "name": "stdout",
     "output_type": "stream",
     "text": [
      "give:giv\n",
      "giving:giv\n",
      "given:giv\n",
      "gave:gav\n",
      "thinking:think\n",
      "loving:lov\n",
      "final:fin\n",
      "finalized:fin\n",
      "finally:fin\n"
     ]
    }
   ],
   "source": [
    "from nltk.stem import LancasterStemmer\n",
    "lst=LancasterStemmer()\n",
    "for words in words_to_stem:\n",
    "    print(words+ ':' +lst.stem(words))"
   ]
  },
  {
   "cell_type": "code",
   "execution_count": 54,
   "id": "65576881",
   "metadata": {},
   "outputs": [
    {
     "name": "stdout",
     "output_type": "stream",
     "text": [
      "give:give\n",
      "giving:give\n",
      "given:given\n",
      "gave:gave\n",
      "thinking:think\n",
      "loving:love\n",
      "final:final\n",
      "finalized:final\n",
      "finally:final\n"
     ]
    }
   ],
   "source": [
    "words_to_stem=['give','giving','given','gave','thinking', 'loving', 'final', 'finalized', 'finally']\n",
    "\n",
    "for words in words_to_stem:\n",
    "    print(words+ ':' + pst.stem(words))"
   ]
  },
  {
   "cell_type": "code",
   "execution_count": 56,
   "id": "4a9a8709",
   "metadata": {},
   "outputs": [
    {
     "name": "stdout",
     "output_type": "stream",
     "text": [
      "give:give\n",
      "giving:give\n",
      "given:given\n",
      "gave:gave\n",
      "thinking:think\n",
      "loving:love\n",
      "final:final\n",
      "finalized:final\n",
      "finally:final\n"
     ]
    }
   ],
   "source": [
    "from nltk.stem import SnowballStemmer\n",
    "sbt=SnowballStemmer('english')\n",
    "for words in words_to_stem:\n",
    "    print(words+ ':' + sbt.stem(words))"
   ]
  },
  {
   "cell_type": "code",
   "execution_count": 57,
   "id": "ac3800a1",
   "metadata": {},
   "outputs": [],
   "source": [
    "from nltk.stem import wordnet\n",
    "from nltk.stem import WordNetLemmatizer\n",
    "word_lem=WordNetLemmatizer()"
   ]
  },
  {
   "cell_type": "code",
   "execution_count": 58,
   "id": "bddf739d",
   "metadata": {},
   "outputs": [
    {
     "data": {
      "text/plain": [
       "['give',\n",
       " 'giving',\n",
       " 'given',\n",
       " 'gave',\n",
       " 'thinking',\n",
       " 'loving',\n",
       " 'final',\n",
       " 'finalized',\n",
       " 'finally']"
      ]
     },
     "execution_count": 58,
     "metadata": {},
     "output_type": "execute_result"
    }
   ],
   "source": [
    "words_to_stem"
   ]
  },
  {
   "cell_type": "code",
   "execution_count": 59,
   "id": "37f3941f",
   "metadata": {},
   "outputs": [
    {
     "name": "stdout",
     "output_type": "stream",
     "text": [
      "give:give\n",
      "giving:giving\n",
      "given:given\n",
      "gave:gave\n",
      "thinking:thinking\n",
      "loving:loving\n",
      "final:final\n",
      "finalized:finalized\n",
      "finally:finally\n"
     ]
    }
   ],
   "source": [
    "for words in words_to_stem:\n",
    "    print(words+  ':' +word_lem.lemmatize(words))"
   ]
  },
  {
   "cell_type": "code",
   "execution_count": 60,
   "id": "70900f50",
   "metadata": {},
   "outputs": [
    {
     "data": {
      "text/plain": [
       "'final'"
      ]
     },
     "execution_count": 60,
     "metadata": {},
     "output_type": "execute_result"
    }
   ],
   "source": [
    "pst.stem('final')"
   ]
  },
  {
   "cell_type": "code",
   "execution_count": 61,
   "id": "42b1c668",
   "metadata": {},
   "outputs": [
    {
     "data": {
      "text/plain": [
       "'fin'"
      ]
     },
     "execution_count": 61,
     "metadata": {},
     "output_type": "execute_result"
    }
   ],
   "source": [
    "lst.stem('finally')"
   ]
  },
  {
   "cell_type": "code",
   "execution_count": 64,
   "id": "64e8420f",
   "metadata": {},
   "outputs": [
    {
     "data": {
      "text/plain": [
       "'final'"
      ]
     },
     "execution_count": 64,
     "metadata": {},
     "output_type": "execute_result"
    }
   ],
   "source": [
    "sbt.stem('finalized')"
   ]
  },
  {
   "cell_type": "code",
   "execution_count": 65,
   "id": "d7bbe4b2",
   "metadata": {},
   "outputs": [
    {
     "data": {
      "text/plain": [
       "'fin'"
      ]
     },
     "execution_count": 65,
     "metadata": {},
     "output_type": "execute_result"
    }
   ],
   "source": [
    "lst.stem('final')"
   ]
  },
  {
   "cell_type": "code",
   "execution_count": 66,
   "id": "2f3b52a2",
   "metadata": {},
   "outputs": [
    {
     "data": {
      "text/plain": [
       "'fin'"
      ]
     },
     "execution_count": 66,
     "metadata": {},
     "output_type": "execute_result"
    }
   ],
   "source": [
    "lst.stem('finalized')"
   ]
  },
  {
   "cell_type": "code",
   "execution_count": 67,
   "id": "ff58df0f",
   "metadata": {},
   "outputs": [],
   "source": [
    "from nltk.corpus import stopwords"
   ]
  },
  {
   "cell_type": "code",
   "execution_count": 68,
   "id": "9d0b2913",
   "metadata": {},
   "outputs": [
    {
     "data": {
      "text/plain": [
       "['i',\n",
       " 'me',\n",
       " 'my',\n",
       " 'myself',\n",
       " 'we',\n",
       " 'our',\n",
       " 'ours',\n",
       " 'ourselves',\n",
       " 'you',\n",
       " \"you're\",\n",
       " \"you've\",\n",
       " \"you'll\",\n",
       " \"you'd\",\n",
       " 'your',\n",
       " 'yours',\n",
       " 'yourself',\n",
       " 'yourselves',\n",
       " 'he',\n",
       " 'him',\n",
       " 'his',\n",
       " 'himself',\n",
       " 'she',\n",
       " \"she's\",\n",
       " 'her',\n",
       " 'hers',\n",
       " 'herself',\n",
       " 'it',\n",
       " \"it's\",\n",
       " 'its',\n",
       " 'itself',\n",
       " 'they',\n",
       " 'them',\n",
       " 'their',\n",
       " 'theirs',\n",
       " 'themselves',\n",
       " 'what',\n",
       " 'which',\n",
       " 'who',\n",
       " 'whom',\n",
       " 'this',\n",
       " 'that',\n",
       " \"that'll\",\n",
       " 'these',\n",
       " 'those',\n",
       " 'am',\n",
       " 'is',\n",
       " 'are',\n",
       " 'was',\n",
       " 'were',\n",
       " 'be',\n",
       " 'been',\n",
       " 'being',\n",
       " 'have',\n",
       " 'has',\n",
       " 'had',\n",
       " 'having',\n",
       " 'do',\n",
       " 'does',\n",
       " 'did',\n",
       " 'doing',\n",
       " 'a',\n",
       " 'an',\n",
       " 'the',\n",
       " 'and',\n",
       " 'but',\n",
       " 'if',\n",
       " 'or',\n",
       " 'because',\n",
       " 'as',\n",
       " 'until',\n",
       " 'while',\n",
       " 'of',\n",
       " 'at',\n",
       " 'by',\n",
       " 'for',\n",
       " 'with',\n",
       " 'about',\n",
       " 'against',\n",
       " 'between',\n",
       " 'into',\n",
       " 'through',\n",
       " 'during',\n",
       " 'before',\n",
       " 'after',\n",
       " 'above',\n",
       " 'below',\n",
       " 'to',\n",
       " 'from',\n",
       " 'up',\n",
       " 'down',\n",
       " 'in',\n",
       " 'out',\n",
       " 'on',\n",
       " 'off',\n",
       " 'over',\n",
       " 'under',\n",
       " 'again',\n",
       " 'further',\n",
       " 'then',\n",
       " 'once',\n",
       " 'here',\n",
       " 'there',\n",
       " 'when',\n",
       " 'where',\n",
       " 'why',\n",
       " 'how',\n",
       " 'all',\n",
       " 'any',\n",
       " 'both',\n",
       " 'each',\n",
       " 'few',\n",
       " 'more',\n",
       " 'most',\n",
       " 'other',\n",
       " 'some',\n",
       " 'such',\n",
       " 'no',\n",
       " 'nor',\n",
       " 'not',\n",
       " 'only',\n",
       " 'own',\n",
       " 'same',\n",
       " 'so',\n",
       " 'than',\n",
       " 'too',\n",
       " 'very',\n",
       " 's',\n",
       " 't',\n",
       " 'can',\n",
       " 'will',\n",
       " 'just',\n",
       " 'don',\n",
       " \"don't\",\n",
       " 'should',\n",
       " \"should've\",\n",
       " 'now',\n",
       " 'd',\n",
       " 'll',\n",
       " 'm',\n",
       " 'o',\n",
       " 're',\n",
       " 've',\n",
       " 'y',\n",
       " 'ain',\n",
       " 'aren',\n",
       " \"aren't\",\n",
       " 'couldn',\n",
       " \"couldn't\",\n",
       " 'didn',\n",
       " \"didn't\",\n",
       " 'doesn',\n",
       " \"doesn't\",\n",
       " 'hadn',\n",
       " \"hadn't\",\n",
       " 'hasn',\n",
       " \"hasn't\",\n",
       " 'haven',\n",
       " \"haven't\",\n",
       " 'isn',\n",
       " \"isn't\",\n",
       " 'ma',\n",
       " 'mightn',\n",
       " \"mightn't\",\n",
       " 'mustn',\n",
       " \"mustn't\",\n",
       " 'needn',\n",
       " \"needn't\",\n",
       " 'shan',\n",
       " \"shan't\",\n",
       " 'shouldn',\n",
       " \"shouldn't\",\n",
       " 'wasn',\n",
       " \"wasn't\",\n",
       " 'weren',\n",
       " \"weren't\",\n",
       " 'won',\n",
       " \"won't\",\n",
       " 'wouldn',\n",
       " \"wouldn't\"]"
      ]
     },
     "execution_count": 68,
     "metadata": {},
     "output_type": "execute_result"
    }
   ],
   "source": [
    "stopwords.words('english')"
   ]
  },
  {
   "cell_type": "code",
   "execution_count": 70,
   "id": "4d283167",
   "metadata": {},
   "outputs": [
    {
     "data": {
      "text/plain": [
       "179"
      ]
     },
     "execution_count": 70,
     "metadata": {},
     "output_type": "execute_result"
    }
   ],
   "source": [
    "len(stopwords.words('english'))"
   ]
  },
  {
   "cell_type": "code",
   "execution_count": 71,
   "id": "3339ec98",
   "metadata": {},
   "outputs": [
    {
     "data": {
      "text/plain": [
       "['de',\n",
       " 'la',\n",
       " 'que',\n",
       " 'el',\n",
       " 'en',\n",
       " 'y',\n",
       " 'a',\n",
       " 'los',\n",
       " 'del',\n",
       " 'se',\n",
       " 'las',\n",
       " 'por',\n",
       " 'un',\n",
       " 'para',\n",
       " 'con',\n",
       " 'no',\n",
       " 'una',\n",
       " 'su',\n",
       " 'al',\n",
       " 'lo',\n",
       " 'como',\n",
       " 'más',\n",
       " 'pero',\n",
       " 'sus',\n",
       " 'le',\n",
       " 'ya',\n",
       " 'o',\n",
       " 'este',\n",
       " 'sí',\n",
       " 'porque',\n",
       " 'esta',\n",
       " 'entre',\n",
       " 'cuando',\n",
       " 'muy',\n",
       " 'sin',\n",
       " 'sobre',\n",
       " 'también',\n",
       " 'me',\n",
       " 'hasta',\n",
       " 'hay',\n",
       " 'donde',\n",
       " 'quien',\n",
       " 'desde',\n",
       " 'todo',\n",
       " 'nos',\n",
       " 'durante',\n",
       " 'todos',\n",
       " 'uno',\n",
       " 'les',\n",
       " 'ni',\n",
       " 'contra',\n",
       " 'otros',\n",
       " 'ese',\n",
       " 'eso',\n",
       " 'ante',\n",
       " 'ellos',\n",
       " 'e',\n",
       " 'esto',\n",
       " 'mí',\n",
       " 'antes',\n",
       " 'algunos',\n",
       " 'qué',\n",
       " 'unos',\n",
       " 'yo',\n",
       " 'otro',\n",
       " 'otras',\n",
       " 'otra',\n",
       " 'él',\n",
       " 'tanto',\n",
       " 'esa',\n",
       " 'estos',\n",
       " 'mucho',\n",
       " 'quienes',\n",
       " 'nada',\n",
       " 'muchos',\n",
       " 'cual',\n",
       " 'poco',\n",
       " 'ella',\n",
       " 'estar',\n",
       " 'estas',\n",
       " 'algunas',\n",
       " 'algo',\n",
       " 'nosotros',\n",
       " 'mi',\n",
       " 'mis',\n",
       " 'tú',\n",
       " 'te',\n",
       " 'ti',\n",
       " 'tu',\n",
       " 'tus',\n",
       " 'ellas',\n",
       " 'nosotras',\n",
       " 'vosotros',\n",
       " 'vosotras',\n",
       " 'os',\n",
       " 'mío',\n",
       " 'mía',\n",
       " 'míos',\n",
       " 'mías',\n",
       " 'tuyo',\n",
       " 'tuya',\n",
       " 'tuyos',\n",
       " 'tuyas',\n",
       " 'suyo',\n",
       " 'suya',\n",
       " 'suyos',\n",
       " 'suyas',\n",
       " 'nuestro',\n",
       " 'nuestra',\n",
       " 'nuestros',\n",
       " 'nuestras',\n",
       " 'vuestro',\n",
       " 'vuestra',\n",
       " 'vuestros',\n",
       " 'vuestras',\n",
       " 'esos',\n",
       " 'esas',\n",
       " 'estoy',\n",
       " 'estás',\n",
       " 'está',\n",
       " 'estamos',\n",
       " 'estáis',\n",
       " 'están',\n",
       " 'esté',\n",
       " 'estés',\n",
       " 'estemos',\n",
       " 'estéis',\n",
       " 'estén',\n",
       " 'estaré',\n",
       " 'estarás',\n",
       " 'estará',\n",
       " 'estaremos',\n",
       " 'estaréis',\n",
       " 'estarán',\n",
       " 'estaría',\n",
       " 'estarías',\n",
       " 'estaríamos',\n",
       " 'estaríais',\n",
       " 'estarían',\n",
       " 'estaba',\n",
       " 'estabas',\n",
       " 'estábamos',\n",
       " 'estabais',\n",
       " 'estaban',\n",
       " 'estuve',\n",
       " 'estuviste',\n",
       " 'estuvo',\n",
       " 'estuvimos',\n",
       " 'estuvisteis',\n",
       " 'estuvieron',\n",
       " 'estuviera',\n",
       " 'estuvieras',\n",
       " 'estuviéramos',\n",
       " 'estuvierais',\n",
       " 'estuvieran',\n",
       " 'estuviese',\n",
       " 'estuvieses',\n",
       " 'estuviésemos',\n",
       " 'estuvieseis',\n",
       " 'estuviesen',\n",
       " 'estando',\n",
       " 'estado',\n",
       " 'estada',\n",
       " 'estados',\n",
       " 'estadas',\n",
       " 'estad',\n",
       " 'he',\n",
       " 'has',\n",
       " 'ha',\n",
       " 'hemos',\n",
       " 'habéis',\n",
       " 'han',\n",
       " 'haya',\n",
       " 'hayas',\n",
       " 'hayamos',\n",
       " 'hayáis',\n",
       " 'hayan',\n",
       " 'habré',\n",
       " 'habrás',\n",
       " 'habrá',\n",
       " 'habremos',\n",
       " 'habréis',\n",
       " 'habrán',\n",
       " 'habría',\n",
       " 'habrías',\n",
       " 'habríamos',\n",
       " 'habríais',\n",
       " 'habrían',\n",
       " 'había',\n",
       " 'habías',\n",
       " 'habíamos',\n",
       " 'habíais',\n",
       " 'habían',\n",
       " 'hube',\n",
       " 'hubiste',\n",
       " 'hubo',\n",
       " 'hubimos',\n",
       " 'hubisteis',\n",
       " 'hubieron',\n",
       " 'hubiera',\n",
       " 'hubieras',\n",
       " 'hubiéramos',\n",
       " 'hubierais',\n",
       " 'hubieran',\n",
       " 'hubiese',\n",
       " 'hubieses',\n",
       " 'hubiésemos',\n",
       " 'hubieseis',\n",
       " 'hubiesen',\n",
       " 'habiendo',\n",
       " 'habido',\n",
       " 'habida',\n",
       " 'habidos',\n",
       " 'habidas',\n",
       " 'soy',\n",
       " 'eres',\n",
       " 'es',\n",
       " 'somos',\n",
       " 'sois',\n",
       " 'son',\n",
       " 'sea',\n",
       " 'seas',\n",
       " 'seamos',\n",
       " 'seáis',\n",
       " 'sean',\n",
       " 'seré',\n",
       " 'serás',\n",
       " 'será',\n",
       " 'seremos',\n",
       " 'seréis',\n",
       " 'serán',\n",
       " 'sería',\n",
       " 'serías',\n",
       " 'seríamos',\n",
       " 'seríais',\n",
       " 'serían',\n",
       " 'era',\n",
       " 'eras',\n",
       " 'éramos',\n",
       " 'erais',\n",
       " 'eran',\n",
       " 'fui',\n",
       " 'fuiste',\n",
       " 'fue',\n",
       " 'fuimos',\n",
       " 'fuisteis',\n",
       " 'fueron',\n",
       " 'fuera',\n",
       " 'fueras',\n",
       " 'fuéramos',\n",
       " 'fuerais',\n",
       " 'fueran',\n",
       " 'fuese',\n",
       " 'fueses',\n",
       " 'fuésemos',\n",
       " 'fueseis',\n",
       " 'fuesen',\n",
       " 'sintiendo',\n",
       " 'sentido',\n",
       " 'sentida',\n",
       " 'sentidos',\n",
       " 'sentidas',\n",
       " 'siente',\n",
       " 'sentid',\n",
       " 'tengo',\n",
       " 'tienes',\n",
       " 'tiene',\n",
       " 'tenemos',\n",
       " 'tenéis',\n",
       " 'tienen',\n",
       " 'tenga',\n",
       " 'tengas',\n",
       " 'tengamos',\n",
       " 'tengáis',\n",
       " 'tengan',\n",
       " 'tendré',\n",
       " 'tendrás',\n",
       " 'tendrá',\n",
       " 'tendremos',\n",
       " 'tendréis',\n",
       " 'tendrán',\n",
       " 'tendría',\n",
       " 'tendrías',\n",
       " 'tendríamos',\n",
       " 'tendríais',\n",
       " 'tendrían',\n",
       " 'tenía',\n",
       " 'tenías',\n",
       " 'teníamos',\n",
       " 'teníais',\n",
       " 'tenían',\n",
       " 'tuve',\n",
       " 'tuviste',\n",
       " 'tuvo',\n",
       " 'tuvimos',\n",
       " 'tuvisteis',\n",
       " 'tuvieron',\n",
       " 'tuviera',\n",
       " 'tuvieras',\n",
       " 'tuviéramos',\n",
       " 'tuvierais',\n",
       " 'tuvieran',\n",
       " 'tuviese',\n",
       " 'tuvieses',\n",
       " 'tuviésemos',\n",
       " 'tuvieseis',\n",
       " 'tuviesen',\n",
       " 'teniendo',\n",
       " 'tenido',\n",
       " 'tenida',\n",
       " 'tenidos',\n",
       " 'tenidas',\n",
       " 'tened']"
      ]
     },
     "execution_count": 71,
     "metadata": {},
     "output_type": "execute_result"
    }
   ],
   "source": [
    "stopwords.words('spanish')"
   ]
  },
  {
   "cell_type": "code",
   "execution_count": 72,
   "id": "239ccca2",
   "metadata": {},
   "outputs": [
    {
     "data": {
      "text/plain": [
       "313"
      ]
     },
     "execution_count": 72,
     "metadata": {},
     "output_type": "execute_result"
    }
   ],
   "source": [
    "len(stopwords.words('spanish')) "
   ]
  },
  {
   "cell_type": "code",
   "execution_count": 73,
   "id": "b9275422",
   "metadata": {},
   "outputs": [
    {
     "data": {
      "text/plain": [
       "['au',\n",
       " 'aux',\n",
       " 'avec',\n",
       " 'ce',\n",
       " 'ces',\n",
       " 'dans',\n",
       " 'de',\n",
       " 'des',\n",
       " 'du',\n",
       " 'elle',\n",
       " 'en',\n",
       " 'et',\n",
       " 'eux',\n",
       " 'il',\n",
       " 'ils',\n",
       " 'je',\n",
       " 'la',\n",
       " 'le',\n",
       " 'les',\n",
       " 'leur',\n",
       " 'lui',\n",
       " 'ma',\n",
       " 'mais',\n",
       " 'me',\n",
       " 'même',\n",
       " 'mes',\n",
       " 'moi',\n",
       " 'mon',\n",
       " 'ne',\n",
       " 'nos',\n",
       " 'notre',\n",
       " 'nous',\n",
       " 'on',\n",
       " 'ou',\n",
       " 'par',\n",
       " 'pas',\n",
       " 'pour',\n",
       " 'qu',\n",
       " 'que',\n",
       " 'qui',\n",
       " 'sa',\n",
       " 'se',\n",
       " 'ses',\n",
       " 'son',\n",
       " 'sur',\n",
       " 'ta',\n",
       " 'te',\n",
       " 'tes',\n",
       " 'toi',\n",
       " 'ton',\n",
       " 'tu',\n",
       " 'un',\n",
       " 'une',\n",
       " 'vos',\n",
       " 'votre',\n",
       " 'vous',\n",
       " 'c',\n",
       " 'd',\n",
       " 'j',\n",
       " 'l',\n",
       " 'à',\n",
       " 'm',\n",
       " 'n',\n",
       " 's',\n",
       " 't',\n",
       " 'y',\n",
       " 'été',\n",
       " 'étée',\n",
       " 'étées',\n",
       " 'étés',\n",
       " 'étant',\n",
       " 'étante',\n",
       " 'étants',\n",
       " 'étantes',\n",
       " 'suis',\n",
       " 'es',\n",
       " 'est',\n",
       " 'sommes',\n",
       " 'êtes',\n",
       " 'sont',\n",
       " 'serai',\n",
       " 'seras',\n",
       " 'sera',\n",
       " 'serons',\n",
       " 'serez',\n",
       " 'seront',\n",
       " 'serais',\n",
       " 'serait',\n",
       " 'serions',\n",
       " 'seriez',\n",
       " 'seraient',\n",
       " 'étais',\n",
       " 'était',\n",
       " 'étions',\n",
       " 'étiez',\n",
       " 'étaient',\n",
       " 'fus',\n",
       " 'fut',\n",
       " 'fûmes',\n",
       " 'fûtes',\n",
       " 'furent',\n",
       " 'sois',\n",
       " 'soit',\n",
       " 'soyons',\n",
       " 'soyez',\n",
       " 'soient',\n",
       " 'fusse',\n",
       " 'fusses',\n",
       " 'fût',\n",
       " 'fussions',\n",
       " 'fussiez',\n",
       " 'fussent',\n",
       " 'ayant',\n",
       " 'ayante',\n",
       " 'ayantes',\n",
       " 'ayants',\n",
       " 'eu',\n",
       " 'eue',\n",
       " 'eues',\n",
       " 'eus',\n",
       " 'ai',\n",
       " 'as',\n",
       " 'avons',\n",
       " 'avez',\n",
       " 'ont',\n",
       " 'aurai',\n",
       " 'auras',\n",
       " 'aura',\n",
       " 'aurons',\n",
       " 'aurez',\n",
       " 'auront',\n",
       " 'aurais',\n",
       " 'aurait',\n",
       " 'aurions',\n",
       " 'auriez',\n",
       " 'auraient',\n",
       " 'avais',\n",
       " 'avait',\n",
       " 'avions',\n",
       " 'aviez',\n",
       " 'avaient',\n",
       " 'eut',\n",
       " 'eûmes',\n",
       " 'eûtes',\n",
       " 'eurent',\n",
       " 'aie',\n",
       " 'aies',\n",
       " 'ait',\n",
       " 'ayons',\n",
       " 'ayez',\n",
       " 'aient',\n",
       " 'eusse',\n",
       " 'eusses',\n",
       " 'eût',\n",
       " 'eussions',\n",
       " 'eussiez',\n",
       " 'eussent']"
      ]
     },
     "execution_count": 73,
     "metadata": {},
     "output_type": "execute_result"
    }
   ],
   "source": [
    "stopwords.words('french') "
   ]
  },
  {
   "cell_type": "code",
   "execution_count": 74,
   "id": "95b7900d",
   "metadata": {},
   "outputs": [
    {
     "data": {
      "text/plain": [
       "157"
      ]
     },
     "execution_count": 74,
     "metadata": {},
     "output_type": "execute_result"
    }
   ],
   "source": [
    "len(stopwords.words('french')) "
   ]
  },
  {
   "cell_type": "code",
   "execution_count": 75,
   "id": "87e817c3",
   "metadata": {},
   "outputs": [
    {
     "data": {
      "text/plain": [
       "['aber',\n",
       " 'alle',\n",
       " 'allem',\n",
       " 'allen',\n",
       " 'aller',\n",
       " 'alles',\n",
       " 'als',\n",
       " 'also',\n",
       " 'am',\n",
       " 'an',\n",
       " 'ander',\n",
       " 'andere',\n",
       " 'anderem',\n",
       " 'anderen',\n",
       " 'anderer',\n",
       " 'anderes',\n",
       " 'anderm',\n",
       " 'andern',\n",
       " 'anderr',\n",
       " 'anders',\n",
       " 'auch',\n",
       " 'auf',\n",
       " 'aus',\n",
       " 'bei',\n",
       " 'bin',\n",
       " 'bis',\n",
       " 'bist',\n",
       " 'da',\n",
       " 'damit',\n",
       " 'dann',\n",
       " 'der',\n",
       " 'den',\n",
       " 'des',\n",
       " 'dem',\n",
       " 'die',\n",
       " 'das',\n",
       " 'dass',\n",
       " 'daß',\n",
       " 'derselbe',\n",
       " 'derselben',\n",
       " 'denselben',\n",
       " 'desselben',\n",
       " 'demselben',\n",
       " 'dieselbe',\n",
       " 'dieselben',\n",
       " 'dasselbe',\n",
       " 'dazu',\n",
       " 'dein',\n",
       " 'deine',\n",
       " 'deinem',\n",
       " 'deinen',\n",
       " 'deiner',\n",
       " 'deines',\n",
       " 'denn',\n",
       " 'derer',\n",
       " 'dessen',\n",
       " 'dich',\n",
       " 'dir',\n",
       " 'du',\n",
       " 'dies',\n",
       " 'diese',\n",
       " 'diesem',\n",
       " 'diesen',\n",
       " 'dieser',\n",
       " 'dieses',\n",
       " 'doch',\n",
       " 'dort',\n",
       " 'durch',\n",
       " 'ein',\n",
       " 'eine',\n",
       " 'einem',\n",
       " 'einen',\n",
       " 'einer',\n",
       " 'eines',\n",
       " 'einig',\n",
       " 'einige',\n",
       " 'einigem',\n",
       " 'einigen',\n",
       " 'einiger',\n",
       " 'einiges',\n",
       " 'einmal',\n",
       " 'er',\n",
       " 'ihn',\n",
       " 'ihm',\n",
       " 'es',\n",
       " 'etwas',\n",
       " 'euer',\n",
       " 'eure',\n",
       " 'eurem',\n",
       " 'euren',\n",
       " 'eurer',\n",
       " 'eures',\n",
       " 'für',\n",
       " 'gegen',\n",
       " 'gewesen',\n",
       " 'hab',\n",
       " 'habe',\n",
       " 'haben',\n",
       " 'hat',\n",
       " 'hatte',\n",
       " 'hatten',\n",
       " 'hier',\n",
       " 'hin',\n",
       " 'hinter',\n",
       " 'ich',\n",
       " 'mich',\n",
       " 'mir',\n",
       " 'ihr',\n",
       " 'ihre',\n",
       " 'ihrem',\n",
       " 'ihren',\n",
       " 'ihrer',\n",
       " 'ihres',\n",
       " 'euch',\n",
       " 'im',\n",
       " 'in',\n",
       " 'indem',\n",
       " 'ins',\n",
       " 'ist',\n",
       " 'jede',\n",
       " 'jedem',\n",
       " 'jeden',\n",
       " 'jeder',\n",
       " 'jedes',\n",
       " 'jene',\n",
       " 'jenem',\n",
       " 'jenen',\n",
       " 'jener',\n",
       " 'jenes',\n",
       " 'jetzt',\n",
       " 'kann',\n",
       " 'kein',\n",
       " 'keine',\n",
       " 'keinem',\n",
       " 'keinen',\n",
       " 'keiner',\n",
       " 'keines',\n",
       " 'können',\n",
       " 'könnte',\n",
       " 'machen',\n",
       " 'man',\n",
       " 'manche',\n",
       " 'manchem',\n",
       " 'manchen',\n",
       " 'mancher',\n",
       " 'manches',\n",
       " 'mein',\n",
       " 'meine',\n",
       " 'meinem',\n",
       " 'meinen',\n",
       " 'meiner',\n",
       " 'meines',\n",
       " 'mit',\n",
       " 'muss',\n",
       " 'musste',\n",
       " 'nach',\n",
       " 'nicht',\n",
       " 'nichts',\n",
       " 'noch',\n",
       " 'nun',\n",
       " 'nur',\n",
       " 'ob',\n",
       " 'oder',\n",
       " 'ohne',\n",
       " 'sehr',\n",
       " 'sein',\n",
       " 'seine',\n",
       " 'seinem',\n",
       " 'seinen',\n",
       " 'seiner',\n",
       " 'seines',\n",
       " 'selbst',\n",
       " 'sich',\n",
       " 'sie',\n",
       " 'ihnen',\n",
       " 'sind',\n",
       " 'so',\n",
       " 'solche',\n",
       " 'solchem',\n",
       " 'solchen',\n",
       " 'solcher',\n",
       " 'solches',\n",
       " 'soll',\n",
       " 'sollte',\n",
       " 'sondern',\n",
       " 'sonst',\n",
       " 'über',\n",
       " 'um',\n",
       " 'und',\n",
       " 'uns',\n",
       " 'unsere',\n",
       " 'unserem',\n",
       " 'unseren',\n",
       " 'unser',\n",
       " 'unseres',\n",
       " 'unter',\n",
       " 'viel',\n",
       " 'vom',\n",
       " 'von',\n",
       " 'vor',\n",
       " 'während',\n",
       " 'war',\n",
       " 'waren',\n",
       " 'warst',\n",
       " 'was',\n",
       " 'weg',\n",
       " 'weil',\n",
       " 'weiter',\n",
       " 'welche',\n",
       " 'welchem',\n",
       " 'welchen',\n",
       " 'welcher',\n",
       " 'welches',\n",
       " 'wenn',\n",
       " 'werde',\n",
       " 'werden',\n",
       " 'wie',\n",
       " 'wieder',\n",
       " 'will',\n",
       " 'wir',\n",
       " 'wird',\n",
       " 'wirst',\n",
       " 'wo',\n",
       " 'wollen',\n",
       " 'wollte',\n",
       " 'würde',\n",
       " 'würden',\n",
       " 'zu',\n",
       " 'zum',\n",
       " 'zur',\n",
       " 'zwar',\n",
       " 'zwischen']"
      ]
     },
     "execution_count": 75,
     "metadata": {},
     "output_type": "execute_result"
    }
   ],
   "source": [
    "stopwords.words('german') "
   ]
  },
  {
   "cell_type": "code",
   "execution_count": 76,
   "id": "bc235d2f",
   "metadata": {},
   "outputs": [
    {
     "data": {
      "text/plain": [
       "232"
      ]
     },
     "execution_count": 76,
     "metadata": {},
     "output_type": "execute_result"
    }
   ],
   "source": [
    "len(stopwords.words('german'))"
   ]
  },
  {
   "cell_type": "code",
   "execution_count": 77,
   "id": "240438ae",
   "metadata": {},
   "outputs": [
    {
     "ename": "OSError",
     "evalue": "No such file or directory: 'C:\\\\Users\\\\Dell i7\\\\AppData\\\\Roaming\\\\nltk_data\\\\corpora\\\\stopwords\\\\hindi'",
     "output_type": "error",
     "traceback": [
      "\u001b[1;31m---------------------------------------------------------------------------\u001b[0m",
      "\u001b[1;31mOSError\u001b[0m                                   Traceback (most recent call last)",
      "Cell \u001b[1;32mIn[77], line 1\u001b[0m\n\u001b[1;32m----> 1\u001b[0m stopwords\u001b[38;5;241m.\u001b[39mwords(\u001b[38;5;124m'\u001b[39m\u001b[38;5;124mhindi\u001b[39m\u001b[38;5;124m'\u001b[39m)\n",
      "File \u001b[1;32m~\\anaconda3\\Lib\\site-packages\\nltk\\corpus\\reader\\wordlist.py:21\u001b[0m, in \u001b[0;36mWordListCorpusReader.words\u001b[1;34m(self, fileids, ignore_lines_startswith)\u001b[0m\n\u001b[0;32m     18\u001b[0m \u001b[38;5;28;01mdef\u001b[39;00m \u001b[38;5;21mwords\u001b[39m(\u001b[38;5;28mself\u001b[39m, fileids\u001b[38;5;241m=\u001b[39m\u001b[38;5;28;01mNone\u001b[39;00m, ignore_lines_startswith\u001b[38;5;241m=\u001b[39m\u001b[38;5;124m\"\u001b[39m\u001b[38;5;130;01m\\n\u001b[39;00m\u001b[38;5;124m\"\u001b[39m):\n\u001b[0;32m     19\u001b[0m     \u001b[38;5;28;01mreturn\u001b[39;00m [\n\u001b[0;32m     20\u001b[0m         line\n\u001b[1;32m---> 21\u001b[0m         \u001b[38;5;28;01mfor\u001b[39;00m line \u001b[38;5;129;01min\u001b[39;00m line_tokenize(\u001b[38;5;28mself\u001b[39m\u001b[38;5;241m.\u001b[39mraw(fileids))\n\u001b[0;32m     22\u001b[0m         \u001b[38;5;28;01mif\u001b[39;00m \u001b[38;5;129;01mnot\u001b[39;00m line\u001b[38;5;241m.\u001b[39mstartswith(ignore_lines_startswith)\n\u001b[0;32m     23\u001b[0m     ]\n",
      "File \u001b[1;32m~\\anaconda3\\Lib\\site-packages\\nltk\\corpus\\reader\\api.py:218\u001b[0m, in \u001b[0;36mCorpusReader.raw\u001b[1;34m(self, fileids)\u001b[0m\n\u001b[0;32m    216\u001b[0m contents \u001b[38;5;241m=\u001b[39m []\n\u001b[0;32m    217\u001b[0m \u001b[38;5;28;01mfor\u001b[39;00m f \u001b[38;5;129;01min\u001b[39;00m fileids:\n\u001b[1;32m--> 218\u001b[0m     \u001b[38;5;28;01mwith\u001b[39;00m \u001b[38;5;28mself\u001b[39m\u001b[38;5;241m.\u001b[39mopen(f) \u001b[38;5;28;01mas\u001b[39;00m fp:\n\u001b[0;32m    219\u001b[0m         contents\u001b[38;5;241m.\u001b[39mappend(fp\u001b[38;5;241m.\u001b[39mread())\n\u001b[0;32m    220\u001b[0m \u001b[38;5;28;01mreturn\u001b[39;00m concat(contents)\n",
      "File \u001b[1;32m~\\anaconda3\\Lib\\site-packages\\nltk\\corpus\\reader\\api.py:231\u001b[0m, in \u001b[0;36mCorpusReader.open\u001b[1;34m(self, file)\u001b[0m\n\u001b[0;32m    223\u001b[0m \u001b[38;5;250m\u001b[39m\u001b[38;5;124;03m\"\"\"\u001b[39;00m\n\u001b[0;32m    224\u001b[0m \u001b[38;5;124;03mReturn an open stream that can be used to read the given file.\u001b[39;00m\n\u001b[0;32m    225\u001b[0m \u001b[38;5;124;03mIf the file's encoding is not None, then the stream will\u001b[39;00m\n\u001b[1;32m   (...)\u001b[0m\n\u001b[0;32m    228\u001b[0m \u001b[38;5;124;03m:param file: The file identifier of the file to read.\u001b[39;00m\n\u001b[0;32m    229\u001b[0m \u001b[38;5;124;03m\"\"\"\u001b[39;00m\n\u001b[0;32m    230\u001b[0m encoding \u001b[38;5;241m=\u001b[39m \u001b[38;5;28mself\u001b[39m\u001b[38;5;241m.\u001b[39mencoding(file)\n\u001b[1;32m--> 231\u001b[0m stream \u001b[38;5;241m=\u001b[39m \u001b[38;5;28mself\u001b[39m\u001b[38;5;241m.\u001b[39m_root\u001b[38;5;241m.\u001b[39mjoin(file)\u001b[38;5;241m.\u001b[39mopen(encoding)\n\u001b[0;32m    232\u001b[0m \u001b[38;5;28;01mreturn\u001b[39;00m stream\n",
      "File \u001b[1;32m~\\anaconda3\\Lib\\site-packages\\nltk\\data.py:334\u001b[0m, in \u001b[0;36mFileSystemPathPointer.join\u001b[1;34m(self, fileid)\u001b[0m\n\u001b[0;32m    332\u001b[0m \u001b[38;5;28;01mdef\u001b[39;00m \u001b[38;5;21mjoin\u001b[39m(\u001b[38;5;28mself\u001b[39m, fileid):\n\u001b[0;32m    333\u001b[0m     _path \u001b[38;5;241m=\u001b[39m os\u001b[38;5;241m.\u001b[39mpath\u001b[38;5;241m.\u001b[39mjoin(\u001b[38;5;28mself\u001b[39m\u001b[38;5;241m.\u001b[39m_path, fileid)\n\u001b[1;32m--> 334\u001b[0m     \u001b[38;5;28;01mreturn\u001b[39;00m FileSystemPathPointer(_path)\n",
      "File \u001b[1;32m~\\anaconda3\\Lib\\site-packages\\nltk\\compat.py:41\u001b[0m, in \u001b[0;36mpy3_data.<locals>._decorator\u001b[1;34m(*args, **kwargs)\u001b[0m\n\u001b[0;32m     39\u001b[0m \u001b[38;5;28;01mdef\u001b[39;00m \u001b[38;5;21m_decorator\u001b[39m(\u001b[38;5;241m*\u001b[39margs, \u001b[38;5;241m*\u001b[39m\u001b[38;5;241m*\u001b[39mkwargs):\n\u001b[0;32m     40\u001b[0m     args \u001b[38;5;241m=\u001b[39m (args[\u001b[38;5;241m0\u001b[39m], add_py3_data(args[\u001b[38;5;241m1\u001b[39m])) \u001b[38;5;241m+\u001b[39m args[\u001b[38;5;241m2\u001b[39m:]\n\u001b[1;32m---> 41\u001b[0m     \u001b[38;5;28;01mreturn\u001b[39;00m init_func(\u001b[38;5;241m*\u001b[39margs, \u001b[38;5;241m*\u001b[39m\u001b[38;5;241m*\u001b[39mkwargs)\n",
      "File \u001b[1;32m~\\anaconda3\\Lib\\site-packages\\nltk\\data.py:312\u001b[0m, in \u001b[0;36mFileSystemPathPointer.__init__\u001b[1;34m(self, _path)\u001b[0m\n\u001b[0;32m    310\u001b[0m _path \u001b[38;5;241m=\u001b[39m os\u001b[38;5;241m.\u001b[39mpath\u001b[38;5;241m.\u001b[39mabspath(_path)\n\u001b[0;32m    311\u001b[0m \u001b[38;5;28;01mif\u001b[39;00m \u001b[38;5;129;01mnot\u001b[39;00m os\u001b[38;5;241m.\u001b[39mpath\u001b[38;5;241m.\u001b[39mexists(_path):\n\u001b[1;32m--> 312\u001b[0m     \u001b[38;5;28;01mraise\u001b[39;00m \u001b[38;5;167;01mOSError\u001b[39;00m(\u001b[38;5;124m\"\u001b[39m\u001b[38;5;124mNo such file or directory: \u001b[39m\u001b[38;5;132;01m%r\u001b[39;00m\u001b[38;5;124m\"\u001b[39m \u001b[38;5;241m%\u001b[39m _path)\n\u001b[0;32m    313\u001b[0m \u001b[38;5;28mself\u001b[39m\u001b[38;5;241m.\u001b[39m_path \u001b[38;5;241m=\u001b[39m _path\n",
      "\u001b[1;31mOSError\u001b[0m: No such file or directory: 'C:\\\\Users\\\\Dell i7\\\\AppData\\\\Roaming\\\\nltk_data\\\\corpora\\\\stopwords\\\\hindi'"
     ]
    }
   ],
   "source": [
    "stopwords.words('hindi') "
   ]
  },
  {
   "cell_type": "code",
   "execution_count": 78,
   "id": "89c98e9c",
   "metadata": {},
   "outputs": [],
   "source": [
    "import re\n",
    "punctuation = re.compile(r'[-.?!,:,()|0-9]')"
   ]
  },
  {
   "cell_type": "code",
   "execution_count": 80,
   "id": "184f6621",
   "metadata": {},
   "outputs": [
    {
     "data": {
      "text/plain": [
       "re.compile(r'[-.?!,:,()|0-9]', re.UNICODE)"
      ]
     },
     "execution_count": 80,
     "metadata": {},
     "output_type": "execute_result"
    }
   ],
   "source": [
    "punctuation"
   ]
  },
  {
   "cell_type": "code",
   "execution_count": 81,
   "id": "93490960",
   "metadata": {},
   "outputs": [
    {
     "data": {
      "text/plain": [
       "'Artificial Intelligence refers to the intelligence of machines. This is in contrast to the natural intelligence of \\nhumans and animals. With Artificial Intelligence, machines perform functions such as learning, planning, reasoning and \\nproblem-solving. Most noteworthy, Artificial Intelligence is the simulation of human intelligence by machines. \\nIt is probably the fastest-growing development in the World of technology and innovation. Furthermore, many experts believe\\nAI could solve major challenges and crisis situations.'"
      ]
     },
     "execution_count": 81,
     "metadata": {},
     "output_type": "execute_result"
    }
   ],
   "source": [
    "AI"
   ]
  },
  {
   "cell_type": "code",
   "execution_count": 82,
   "id": "3a883e1c",
   "metadata": {},
   "outputs": [
    {
     "data": {
      "text/plain": [
       "['Artificial Intelligence refers to the intelligence of machines.',\n",
       " 'This is in contrast to the natural intelligence of \\nhumans and animals.',\n",
       " 'With Artificial Intelligence, machines perform functions such as learning, planning, reasoning and \\nproblem-solving.',\n",
       " 'Most noteworthy, Artificial Intelligence is the simulation of human intelligence by machines.',\n",
       " 'It is probably the fastest-growing development in the World of technology and innovation.',\n",
       " 'Furthermore, many experts believe\\nAI could solve major challenges and crisis situations.']"
      ]
     },
     "execution_count": 82,
     "metadata": {},
     "output_type": "execute_result"
    }
   ],
   "source": [
    "\n",
    "AI_tokens"
   ]
  },
  {
   "cell_type": "code",
   "execution_count": 83,
   "id": "c9dae620",
   "metadata": {},
   "outputs": [
    {
     "data": {
      "text/plain": [
       "6"
      ]
     },
     "execution_count": 83,
     "metadata": {},
     "output_type": "execute_result"
    }
   ],
   "source": [
    "len(AI_tokens)"
   ]
  },
  {
   "cell_type": "code",
   "execution_count": 84,
   "id": "91ee9ce0",
   "metadata": {},
   "outputs": [
    {
     "data": {
      "text/plain": [
       "['kathy', 'is', 'a', 'natural', 'when', 'it', 'comes', 'to', 'drawing']"
      ]
     },
     "execution_count": 84,
     "metadata": {},
     "output_type": "execute_result"
    }
   ],
   "source": [
    "sent = 'kathy is a natural when it comes to drawing'\n",
    "sent_tokens=word_tokenize(sent)\n",
    "sent_tokens"
   ]
  },
  {
   "cell_type": "code",
   "execution_count": 86,
   "id": "ad28fba5",
   "metadata": {},
   "outputs": [
    {
     "name": "stdout",
     "output_type": "stream",
     "text": [
      "[('kathy', 'NN')]\n",
      "[('is', 'VBZ')]\n",
      "[('a', 'DT')]\n",
      "[('natural', 'JJ')]\n",
      "[('when', 'WRB')]\n",
      "[('it', 'PRP')]\n",
      "[('comes', 'VBZ')]\n",
      "[('to', 'TO')]\n",
      "[('drawing', 'VBG')]\n"
     ]
    }
   ],
   "source": [
    "for tokens in sent_tokens:\n",
    "    print(nltk.pos_tag([tokens]))"
   ]
  },
  {
   "cell_type": "code",
   "execution_count": 87,
   "id": "3476e87a",
   "metadata": {},
   "outputs": [
    {
     "name": "stdout",
     "output_type": "stream",
     "text": [
      "[('john', 'NN')]\n",
      "[('is', 'VBZ')]\n",
      "[('eating', 'VBG')]\n",
      "[('a', 'DT')]\n",
      "[('delicious', 'JJ')]\n",
      "[('cake', 'NN')]\n"
     ]
    }
   ],
   "source": [
    "sent2 = 'john is eating a delicious cake'\n",
    "sent2_tokens = word_tokenize(sent2)\n",
    "\n",
    "for token in sent2_tokens:\n",
    "    print(nltk.pos_tag([token]))"
   ]
  },
  {
   "cell_type": "code",
   "execution_count": 88,
   "id": "f5ba7748",
   "metadata": {},
   "outputs": [],
   "source": [
    "from nltk import ne_chunk"
   ]
  },
  {
   "cell_type": "code",
   "execution_count": 89,
   "id": "05edca7a",
   "metadata": {},
   "outputs": [],
   "source": [
    "NE_sent='The US president stays in the WHITEHOUSE'"
   ]
  },
  {
   "cell_type": "code",
   "execution_count": 91,
   "id": "66befc8a",
   "metadata": {},
   "outputs": [
    {
     "data": {
      "text/plain": [
       "['The', 'US', 'president', 'stays', 'in', 'the', 'WHITEHOUSE']"
      ]
     },
     "execution_count": 91,
     "metadata": {},
     "output_type": "execute_result"
    }
   ],
   "source": [
    "NE_tokens=word_tokenize(NE_sent)\n",
    "NE_tokens"
   ]
  },
  {
   "cell_type": "code",
   "execution_count": 92,
   "id": "05195df0",
   "metadata": {},
   "outputs": [
    {
     "data": {
      "text/plain": [
       "[('The', 'DT'),\n",
       " ('US', 'NNP'),\n",
       " ('president', 'NN'),\n",
       " ('stays', 'NNS'),\n",
       " ('in', 'IN'),\n",
       " ('the', 'DT'),\n",
       " ('WHITEHOUSE', 'NNP')]"
      ]
     },
     "execution_count": 92,
     "metadata": {},
     "output_type": "execute_result"
    }
   ],
   "source": [
    "NE_tags=nltk.pos_tag(NE_tokens)\n",
    "NE_tags"
   ]
  },
  {
   "cell_type": "code",
   "execution_count": 93,
   "id": "a1c85aeb",
   "metadata": {},
   "outputs": [
    {
     "name": "stdout",
     "output_type": "stream",
     "text": [
      "(S\n",
      "  The/DT\n",
      "  (GSP US/NNP)\n",
      "  president/NN\n",
      "  stays/NNS\n",
      "  in/IN\n",
      "  the/DT\n",
      "  (ORGANIZATION WHITEHOUSE/NNP))\n"
     ]
    }
   ],
   "source": [
    "NE_NER=ne_chunk(NE_tags)\n",
    "print(NE_NER)"
   ]
  },
  {
   "cell_type": "code",
   "execution_count": 94,
   "id": "4091a295",
   "metadata": {},
   "outputs": [
    {
     "data": {
      "text/plain": [
       "[('the', 'DT'),\n",
       " ('big', 'JJ'),\n",
       " ('cat', 'NN'),\n",
       " ('ate', 'VBD'),\n",
       " ('the', 'DT'),\n",
       " ('little', 'JJ'),\n",
       " ('mouse', 'NN'),\n",
       " ('who', 'WP'),\n",
       " ('was', 'VBD'),\n",
       " ('after', 'IN'),\n",
       " ('fresh', 'JJ'),\n",
       " ('cheese', 'NN')]"
      ]
     },
     "execution_count": 94,
     "metadata": {},
     "output_type": "execute_result"
    }
   ],
   "source": [
    "new = 'the big cat ate the little mouse who was after fresh cheese'\n",
    "new_tokens = nltk.pos_tag(word_tokenize(new))\n",
    "new_tokens\n"
   ]
  },
  {
   "cell_type": "code",
   "execution_count": 96,
   "id": "491ef0af",
   "metadata": {},
   "outputs": [
    {
     "name": "stdout",
     "output_type": "stream",
     "text": [
      "Collecting wordcloud\n",
      "  Obtaining dependency information for wordcloud from https://files.pythonhosted.org/packages/34/ac/72a4e42e76bf549dfd91791a6b10a9832f046c1d48b5e778be9ec012aa47/wordcloud-1.9.2-cp311-cp311-win_amd64.whl.metadata\n",
      "  Downloading wordcloud-1.9.2-cp311-cp311-win_amd64.whl.metadata (3.4 kB)\n",
      "Requirement already satisfied: numpy>=1.6.1 in c:\\users\\dell i7\\anaconda3\\lib\\site-packages (from wordcloud) (1.24.3)\n",
      "Requirement already satisfied: pillow in c:\\users\\dell i7\\anaconda3\\lib\\site-packages (from wordcloud) (9.4.0)\n",
      "Requirement already satisfied: matplotlib in c:\\users\\dell i7\\anaconda3\\lib\\site-packages (from wordcloud) (3.7.1)\n",
      "Requirement already satisfied: contourpy>=1.0.1 in c:\\users\\dell i7\\anaconda3\\lib\\site-packages (from matplotlib->wordcloud) (1.0.5)\n",
      "Requirement already satisfied: cycler>=0.10 in c:\\users\\dell i7\\anaconda3\\lib\\site-packages (from matplotlib->wordcloud) (0.11.0)\n",
      "Requirement already satisfied: fonttools>=4.22.0 in c:\\users\\dell i7\\anaconda3\\lib\\site-packages (from matplotlib->wordcloud) (4.25.0)\n",
      "Requirement already satisfied: kiwisolver>=1.0.1 in c:\\users\\dell i7\\anaconda3\\lib\\site-packages (from matplotlib->wordcloud) (1.4.4)\n",
      "Requirement already satisfied: packaging>=20.0 in c:\\users\\dell i7\\anaconda3\\lib\\site-packages (from matplotlib->wordcloud) (23.0)\n",
      "Requirement already satisfied: pyparsing>=2.3.1 in c:\\users\\dell i7\\anaconda3\\lib\\site-packages (from matplotlib->wordcloud) (3.0.9)\n",
      "Requirement already satisfied: python-dateutil>=2.7 in c:\\users\\dell i7\\anaconda3\\lib\\site-packages (from matplotlib->wordcloud) (2.8.2)\n",
      "Requirement already satisfied: six>=1.5 in c:\\users\\dell i7\\anaconda3\\lib\\site-packages (from python-dateutil>=2.7->matplotlib->wordcloud) (1.16.0)\n",
      "Downloading wordcloud-1.9.2-cp311-cp311-win_amd64.whl (151 kB)\n",
      "   ---------------------------------------- 0.0/151.4 kB ? eta -:--:--\n",
      "   ---------------------------------------- 151.4/151.4 kB 8.8 MB/s eta 0:00:00\n",
      "Installing collected packages: wordcloud\n",
      "Successfully installed wordcloud-1.9.2\n",
      "Note: you may need to restart the kernel to use updated packages.\n"
     ]
    }
   ],
   "source": [
    "pip install wordcloud\n"
   ]
  },
  {
   "cell_type": "code",
   "execution_count": 97,
   "id": "598fc61d",
   "metadata": {},
   "outputs": [],
   "source": [
    "from wordcloud import WordCloud\n",
    "import matplotlib.pyplot as plt"
   ]
  },
  {
   "cell_type": "code",
   "execution_count": 98,
   "id": "c79b6914",
   "metadata": {},
   "outputs": [],
   "source": [
    "text=(\"Python Python Python Matplotlib Matplotlib Seaborn Network Plot Violin Chart Pandas Datascience Wordcloud Spider Radar Parrallel Alpha Color Brewer Density Scatter Barplot Barplot Boxplot Violinplot Treemap Stacked Area Chart Chart Visualization Dataviz Donut Pie Time-Series Wordcloud Wordcloud Sankey Bubble\")"
   ]
  },
  {
   "cell_type": "code",
   "execution_count": 99,
   "id": "44f4c903",
   "metadata": {},
   "outputs": [
    {
     "data": {
      "text/plain": [
       "'Python Python Python Matplotlib Matplotlib Seaborn Network Plot Violin Chart Pandas Datascience Wordcloud Spider Radar Parrallel Alpha Color Brewer Density Scatter Barplot Barplot Boxplot Violinplot Treemap Stacked Area Chart Chart Visualization Dataviz Donut Pie Time-Series Wordcloud Wordcloud Sankey Bubble'"
      ]
     },
     "execution_count": 99,
     "metadata": {},
     "output_type": "execute_result"
    }
   ],
   "source": [
    "text"
   ]
  },
  {
   "cell_type": "code",
   "execution_count": 101,
   "id": "0c4868c3",
   "metadata": {},
   "outputs": [],
   "source": [
    "wordcloud=WordCloud(width=480,height=480,margin=0).generate(text)"
   ]
  },
  {
   "cell_type": "code",
   "execution_count": 102,
   "id": "335a4d49",
   "metadata": {},
   "outputs": [
    {
     "data": {
      "image/png": "[encoded data removed]",
      "text/plain": [
       "<Figure size 640x480 with 1 Axes>"
      ]
     },
     "metadata": {},
     "output_type": "display_data"
    }
   ],
   "source": [
    "plt.imshow(wordcloud,interpolation='bilinear')\n",
    "plt.axis(\"off\")\n",
    "plt.margins(x=0,y=0)\n",
    "plt.show()"
   ]
  },
  {
   "cell_type": "code",
   "execution_count": null,
   "id": "2e84391f",
   "metadata": {},
   "outputs": [],
   "source": []
  }
 ],
 "metadata": {
  "kernelspec": {
   "display_name": "Python 3 (ipykernel)",
   "language": "python",
   "name": "python3"
  },
  "language_info": {
   "codemirror_mode": {
    "name": "ipython",
    "version": 3
   },
   "file_extension": ".py",
   "mimetype": "text/x-python",
   "name": "python",
   "nbconvert_exporter": "python",
   "pygments_lexer": "ipython3",
   "version": "3.11.4"
  }
 },
 "nbformat": 4,
 "nbformat_minor": 5
}
