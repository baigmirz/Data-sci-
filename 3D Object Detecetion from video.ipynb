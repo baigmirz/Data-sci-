{
 "cells": [
  {
   "cell_type": "code",
   "execution_count": 1,
   "id": "414bf76c",
   "metadata": {},
   "outputs": [],
   "source": [
    "import mediapipe as mp\n",
    "import cv2"
   ]
  },
  {
   "cell_type": "markdown",
   "id": "39b79e9e",
   "metadata": {},
   "source": [
    "## 3D Object Detection From video"
   ]
  },
  {
   "cell_type": "code",
   "execution_count": null,
   "id": "d3908204",
   "metadata": {},
   "outputs": [],
   "source": [
    "mp_objectron=mp.solutions.objectron\n",
    "mp_drawing=mp.solutions.drawing_utils\n",
    "\n",
    "cap=cv2.VideoCapture(r\"C:\\Users\\Dell i7\\Desktop\\Mediapipe\\pexels_videos.mp4\")\n",
    "\n",
    "objectron=mp_objectron.Objectron(static_image_mode=False,\n",
    "                                max_num_objects=5,\n",
    "                                min_detection_confidence=0.4,\n",
    "                                min_tracking_confidence=0.70,\n",
    "                                model_name='Cup')\n",
    "\n",
    "## readvideo stream and feed into the model\n",
    "while cap.isOpened():\n",
    "    success, image=cap.read()\n",
    "    \n",
    "    image.flags.writeable=False\n",
    "    image=cv2.cvtColor(image,cv2.COLOR_BGR2RGB)\n",
    "    results=objectron.process(image)\n",
    "    \n",
    "    image.flags.writeable=True\n",
    "    image=cv2.cvtColor(image,cv2.COLOR_RGB2BGR)\n",
    "    if results.detected_objects:\n",
    "        for detected_object in results.detected_objects:\n",
    "            mp_drawing.draw_landmarks(image,\n",
    "                                     detected_object.landmarks_2d,\n",
    "                                     mp_objectron.BOX_CONNECTIONS)\n",
    "            mp_drawing.draw_axis(image,\n",
    "                                detected_object.rotation,\n",
    "                                detected_object.translation)\n",
    "            \n",
    "            cv2.imshow('Mediapipe Objectron',cv2.flip(image,1))\n",
    "            if cv2.waitKey(5) &0xFF==ord('q'):\n",
    "                break\n",
    "                \n",
    "cap.release()\n",
    "cv2.destroyAllWindows()\n",
    "            "
   ]
  },
  {
   "cell_type": "code",
   "execution_count": null,
   "id": "e37af252",
   "metadata": {},
   "outputs": [],
   "source": []
  }
 ],
 "metadata": {
  "kernelspec": {
   "display_name": "Python 3 (ipykernel)",
   "language": "python",
   "name": "python3"
  },
  "language_info": {
   "codemirror_mode": {
    "name": "ipython",
    "version": 3
   },
   "file_extension": ".py",
   "mimetype": "text/x-python",
   "name": "python",
   "nbconvert_exporter": "python",
   "pygments_lexer": "ipython3",
   "version": "3.10.13"
  }
 },
 "nbformat": 4,
 "nbformat_minor": 5
}
