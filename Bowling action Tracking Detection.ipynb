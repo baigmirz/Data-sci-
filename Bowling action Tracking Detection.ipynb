{
 "cells": [
  {
   "cell_type": "code",
   "execution_count": 1,
   "id": "5a4379ce",
   "metadata": {},
   "outputs": [],
   "source": [
    "import mediapipe as mp"
   ]
  },
  {
   "cell_type": "code",
   "execution_count": 2,
   "id": "c70af8d7",
   "metadata": {},
   "outputs": [],
   "source": [
    "import cv2"
   ]
  },
  {
   "cell_type": "code",
   "execution_count": 6,
   "id": "d7c02c26",
   "metadata": {},
   "outputs": [],
   "source": [
    "## load mediapipe pose model\n",
    "\n",
    "mp_pose = mp.solutions.pose\n",
    "pose = mp_pose.Pose(static_image_mode = False,min_detection_confidence=0.5,min_tracking_confidence=0.5)\n",
    "\n",
    "\n",
    "## load video\n",
    "video_path = (r\"C:\\Users\\Dell i7\\Downloads\\WhatsApp Video 2023-11-23 at 1.04.12 PM.mp4\")\n",
    "\n",
    "cap = cv2.VideoCapture(video_path)\n",
    "\n",
    "## create videowrite object to save output video\n",
    "\n",
    "output_path =(r\"C:\\Users\\Dell i7\\Desktop\\Mediapipe\\my project mediapie\")\n",
    "\n",
    "fps = cap.get(cv2.CAP_PROP_FPS)\n",
    "width = int(cap.get(cv2.CAP_PROP_FRAME_WIDTH))\n",
    "height = int(cap.get(cv2.CAP_PROP_FRAME_HEIGHT))\n",
    "fourcc =cv2.VideoWriter_fourcc(*'mp4v')\n",
    "out = cv2.VideoWriter(output_path, fourcc, fps,(width,height))\n",
    "\n",
    "while cap.isOpened():\n",
    "    ret, frame = cap.read()\n",
    "    if not ret:\n",
    "        break\n",
    "        \n",
    "       # convvert the image to RGB\n",
    "    image_rgb = cv2.cvtColor(frame,cv2.COLOR_BGR2RGB)\n",
    "    \n",
    "    ##process the frame with mediapipe pose\n",
    "    results = pose.process(image_rgb)\n",
    "    \n",
    "    if results.pose_landmarks:\n",
    "        #3render the pose landmarks on frame\n",
    "        mp_drawing = mp.solutions.drawing_utils\n",
    "        mp_drawing.draw_landmarks(\n",
    "            frame, results.pose_landmarks, mp_pose.POSE_CONNECTIONS,\n",
    "            mp_drawing.DrawingSpec(color=(0, 255, 0), thickness=2, circle_radius=2),\n",
    "            mp_drawing.DrawingSpec(color=(0, 0, 255), thickness=2, circle_radius=2)\n",
    "        )\n",
    "        ## write frame with landmarks to output video\n",
    "        out.write(frame)\n",
    "        \n",
    "        # display the resulting frame\n",
    "        cv2.imshow('Dance Tracking', frame)\n",
    "        if cv2.waitKey(12) & 0xFF == ord('q'):\n",
    "            break\n",
    "\n",
    "cap.release()\n",
    "out.release()\n",
    "cv2.destroyAllWindows()"
   ]
  },
  {
   "cell_type": "code",
   "execution_count": null,
   "id": "e6a4c6d4",
   "metadata": {},
   "outputs": [],
   "source": []
  }
 ],
 "metadata": {
  "kernelspec": {
   "display_name": "Python 3 (ipykernel)",
   "language": "python",
   "name": "python3"
  },
  "language_info": {
   "codemirror_mode": {
    "name": "ipython",
    "version": 3
   },
   "file_extension": ".py",
   "mimetype": "text/x-python",
   "name": "python",
   "nbconvert_exporter": "python",
   "pygments_lexer": "ipython3",
   "version": "3.10.13"
  }
 },
 "nbformat": 4,
 "nbformat_minor": 5
}
