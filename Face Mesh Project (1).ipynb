{
 "cells": [
  {
   "cell_type": "code",
   "execution_count": 2,
   "id": "095d237a",
   "metadata": {},
   "outputs": [],
   "source": [
    "import cv2\n",
    "import mediapipe as mp\n",
    "import time"
   ]
  },
  {
   "cell_type": "code",
   "execution_count": null,
   "id": "e4426d85",
   "metadata": {},
   "outputs": [],
   "source": [
    "# cap = cv2.VideoCapture(r\"C:\\Users\\Dell i7\\Desktop\\Mediapipe\\facemesh\\w.mp4\")\n",
    "\n",
    "cap = cv2.VideoCapture(0)\n",
    "\n",
    "pTime =0\n",
    "\n",
    "mpDraw= mp.solutions.drawing_utils\n",
    "mpFaceMesh=mp.solutions.face_mesh\n",
    "faceMesh=mpFaceMesh.FaceMesh(max_num_faces=1)\n",
    "\n",
    "\n",
    "\n",
    "\n",
    "\n",
    "while True:\n",
    "    success , img =cap.read()\n",
    "    imgRGB = cv2.cvtColor(img, cv2.COLOR_BGR2RGB)\n",
    "    results=faceMesh.process(imgRGB)\n",
    "    if results.multi_face_landmarks:\n",
    "        for faceLms in results.multi_face_landmarks:\n",
    "          mpDraw.draw_landmarks(img,faceLms, mpFaceMesh.FACEMESH_TESSELATION)\n",
    "   \n",
    "    cTime = time.time()\n",
    "    fps = 1 / (cTime - pTime)\n",
    "    pTime = cTime\n",
    "\n",
    "    cv2.putText(img, f'FPS: {int(fps)}', (20, 70), cv2.FONT_HERSHEY_PLAIN, 3, (0, 255, 0), 3)\n",
    "\n",
    "    cv2.imshow(\"image\", img)\n",
    "    \n",
    "    cv2.waitKey(1)"
   ]
  },
  {
   "cell_type": "code",
   "execution_count": null,
   "id": "11d02058",
   "metadata": {},
   "outputs": [],
   "source": []
  }
 ],
 "metadata": {
  "kernelspec": {
   "display_name": "Python 3 (ipykernel)",
   "language": "python",
   "name": "python3"
  },
  "language_info": {
   "codemirror_mode": {
    "name": "ipython",
    "version": 3
   },
   "file_extension": ".py",
   "mimetype": "text/x-python",
   "name": "python",
   "nbconvert_exporter": "python",
   "pygments_lexer": "ipython3",
   "version": "3.10.13"
  }
 },
 "nbformat": 4,
 "nbformat_minor": 5
}
